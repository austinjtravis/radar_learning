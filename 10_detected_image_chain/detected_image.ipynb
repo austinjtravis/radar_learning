{
 "cells": [
  {
   "cell_type": "markdown",
   "id": "f8790d5a-49f0-4db2-a0c7-112d08f0d159",
   "metadata": {},
   "source": [
    "# Detected image processing\n",
    "Detected image processing is the conversion of a focused slant plane SICD to an ortho-rectified high contrast 8 bit remapped image in the ground plane.  Detected images (often referred to as SIDDs) are the product that most consumers use for SAR.  It is called \"detected\" because the phase information has been stripped and it has been square law detected https://en.wikipedia.org/wiki/Square-law_detector\n",
    "\n",
    "# Important\n",
    "My knowledge of detected image processing is purely from looking at the DI repo: https://mi-gitlab.mdaus.corp/code/di.  I do not have a lot of intuition for why it's doing what it's doing, but I know what it does to go from SICD to detected image.  \n",
    "\n",
    "In the future I would love for somebody to re-vamp this notebook with more information/motivation\n",
    "\n",
    "# Apodization\n",
    "The first stage in the chain is to apodize the image.  This is applying a sidelobe control weighting which we covered in the math intro notebook.  Typically joint in phase quadrature spatially variant apodization is used\n",
    "\n",
    "# Resample to get even number of rows and columns\n",
    "Going into to the chain the SICD could have any number of rows and columns.  The goal of this portion is to make the number of rows and columns in the image as close to equal as possible.  NOTE: This does not change any resolution/just sample spacing.  This is applying the upsampling techniques we described in the math intro notebook\n",
    "\n",
    "# Compute remap information\n",
    "This stage is computing the lower bound of the color limit (cl) and the upper bound of the color limit (ch) to inform the high contrast remap later\n",
    "\n",
    "# Spectral shaping\n",
    "I have never quite understood what this does.  Spectral shaping makes me think it's weighting or trimming the image spectrum, but in practice what it appears to do is extract the data from the valid data polygon into a rectangular buffer\n",
    "\n",
    "# Ground projection\n",
    "Project the slant plane image into the ground plane.  At this point you can plot the image on google earth and features would line up\n",
    "\n",
    "# Remap\n",
    "Perform a high contrast remap\n",
    "\n"
   ]
  }
 ],
 "metadata": {
  "kernelspec": {
   "display_name": "Python 3 (ipykernel)",
   "language": "python",
   "name": "python3"
  },
  "language_info": {
   "codemirror_mode": {
    "name": "ipython",
    "version": 3
   },
   "file_extension": ".py",
   "mimetype": "text/x-python",
   "name": "python",
   "nbconvert_exporter": "python",
   "pygments_lexer": "ipython3",
   "version": "3.12.8"
  }
 },
 "nbformat": 4,
 "nbformat_minor": 5
}
