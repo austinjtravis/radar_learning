{
 "cells": [
  {
   "cell_type": "markdown",
   "id": "04f92205-3a76-4ec8-bd44-965e00a3bce0",
   "metadata": {},
   "source": [
    "# Final exam\n",
    "Goal of this is to see if you can code up your own synthetic data generator and IFP"
   ]
  },
  {
   "cell_type": "markdown",
   "id": "22ad68ad-29b4-4352-9316-f90b7ae0c1bf",
   "metadata": {},
   "source": [
    "Use the following system definition"
   ]
  },
  {
   "cell_type": "code",
   "execution_count": 1,
   "id": "c242f97c-577e-49ff-a65c-e9c3bd50f79a",
   "metadata": {},
   "outputs": [],
   "source": [
    "import numpy as np\n",
    "from scipy.constants import c as speed_of_light\n",
    "# Geometry \n",
    "arp_poly=np.array([\n",
    "    [4800897.883632624, 57.036013951381584], [2752862.8001471036, -4.058634127391252], [3180199.1684093135, -82.03914066808467]\n",
    "])\n",
    "p_scp=np.array([4787610.688267582, 2764128.319646417,  3170373.7353836414])\n",
    "\n",
    "num_pulses = 2000 # number of pulses we transmit\n",
    "prf = 4000 # pulse repition frequency in Hz\n",
    "bandwidth = 100e6 # trasnmit RF bandwidth in Hz\n",
    "tx_pulse_len = 1e-05 # Duration of the pulse we send in seconds\n",
    "t_start = 0.0 # time when we start transmitting pulses in seconds\n",
    "t_end = 0.4998734257422694 # time of last pulse we sent in seconds\n",
    "chirp_rate = bandwidth / tx_pulse_len # chirp rate in Hz/s\n",
    "fc = 10e9 # center frequency of the system in Hz\n",
    "wavelen = speed_of_light / fc # wavelenght of the center frequecny in meters\n",
    "rx_window_factor = 3 # multiplier on the pulse length for how long we listen\n",
    "rx_nyquist_factor = 1.25 # how much over nyquist rate we oversample\n",
    "sampling_rate = 2 * bandwidth * rx_nyquist_factor # ADC sampling rate in Hz \n",
    "sampling_period = 1 / sampling_rate # ADC sampling period in seconds\n",
    "rx_window_duration = rx_window_factor * tx_pulse_len # Duration of the receive window in seconds\n",
    "tx_times = np.arange(0, t_end, 1/prf) # Array of times we send pulses in seconds\n",
    "t_adc = np.arange(0, rx_window_duration, sampling_period) # ADC sampling times in seconds\n",
    "t_adc -= t_adc.mean()\n",
    "num_samples = t_adc.size"
   ]
  },
  {
   "cell_type": "markdown",
   "id": "b170adc2-9c66-42bf-b383-7de4b5800bb4",
   "metadata": {},
   "source": [
    "# Create Scene \n",
    "To create an image we need to define some points to image.  To do this we will define points in the slant plane and convert to them to ECEF.  Recall the defition of the slant plane is\n",
    "The definition of the slant plane coordinate system is:\n",
    "$$\n",
    "\\text{look} = \\begin{cases}\n",
    "1 & (\\mathbf{u}_{p_{coa}} \\times \\mathbf{u}_{v_{coa}}) \\cdot \\mathbf{u}_{los},\\\\\n",
    "0  & 0 \\text{ else}\n",
    "\\end{cases}\n",
    "$$  \n",
    "\n",
    "$$\\mathbf{z}_{sp} = \\text{look}\\cdot (\\mathbf{u}_{v_{coa}} \\times \\mathbf{u}_{los})$$\n",
    "$$\\mathbf{x}_{sp} = -\\mathbf{u}_{los}$$\n",
    "$$\\mathbf{y}_{sp} = \\mathbf{z}_{sp} \\times \\mathbf{x}_{sp}$$\n",
    "$$\\mathbf{R}_{\\text{sp}\\rightarrow\\text{ecef}} = [\\mathbf{x}_{sp}, \\mathbf{y}_{sp}, \\mathbf{z}_{sp}]$$\n",
    "To convert an ecef position to slant plane position compute:\n",
    "$$\\mathbf{p}_{\\text{sp}} = \\mathbf{R}_{\\text{sp}\\rightarrow\\text{ecef}}(\\mathbf{p}_{\\text{ecef}} - \\mathbf{p}_{\\text{scp}})$$\n"
   ]
  },
  {
   "cell_type": "markdown",
   "id": "e5950923-6d33-4415-97ed-c69dd308fe56",
   "metadata": {},
   "source": [
    "## Problem 1\n",
    "Write a function to compute $\\mathbf{R}_{\\text{sp}\\rightarrow\\text{ecef}}$"
   ]
  },
  {
   "cell_type": "code",
   "execution_count": null,
   "id": "f345d449-64bb-47ad-9c2e-4e5ad7abae15",
   "metadata": {},
   "outputs": [],
   "source": []
  },
  {
   "cell_type": "markdown",
   "id": "397c7b7d-8677-4d74-ad23-82f3ac3576c4",
   "metadata": {
    "jp-MarkdownHeadingCollapsed": true
   },
   "source": [
    "## Solution"
   ]
  },
  {
   "cell_type": "code",
   "execution_count": null,
   "id": "93b6f8f4-5987-42f4-a944-32f296442729",
   "metadata": {
    "jupyter": {
     "source_hidden": true
    }
   },
   "outputs": [],
   "source": [
    "# Solution\n",
    "import numpy as np\n",
    "import numpy.polynomial.polynomial as npp\n",
    "def slant_plane_to_ecef(p_arp_ecef, v_arp_ecef, p_grp_ecef):\n",
    "    x = p_arp_ecef - p_grp_ecef\n",
    "    slt_rg = np.linalg.norm(x, axis=-1)\n",
    "    u_x = x / slt_rg\n",
    "    z = np.cross(u_x, v_arp_ecef, axisa=-1, axisb=-1)\n",
    "\n",
    "    look = 1\n",
    "    u_z = np.expand_dims(look, axis=-1) * (z / (np.linalg.norm(z, axis=-1)))\n",
    "    u_y = np.cross(u_z, u_x, axisa=-1, axisb=-1)\n",
    "    slant_to_ecef = np.stack((u_x, u_y, u_z), axis=-1)\n",
    "    return slant_to_ecef\n",
    "\n",
    "# Test the function for the center of aperture (COA) time\n",
    "coa_time = (t_end - t_start) / 2 \n",
    "p_coa = npp.polyval(coa_time, arp_poly.T).T\n",
    "v_coa = npp.polyval(coa_time, npp.polyder(arp_poly.T)).T\n",
    "sp_2_ecef = slant_plane_to_ecef(p_coa, v_coa, p_scp)"
   ]
  },
  {
   "cell_type": "markdown",
   "id": "016cdf95-6e26-4141-ac3d-b08b95fd93ed",
   "metadata": {},
   "source": [
    "## Problem 2\n",
    "Define points in the slant plane coordinate system and convert them to ECEF.  Write code which implements the following equation\n",
    "$$\\mathbf{p}_{\\text{sp}} = \\mathbf{R}_{\\text{sp}\\rightarrow\\text{ecef}}(\\mathbf{p}_{\\text{ecef}} - \\mathbf{p}_{\\text{scp}})$$ \n",
    "\n",
    "Verify your code by plotting the points in the slant plane coordinate system.\n"
   ]
  },
  {
   "cell_type": "code",
   "execution_count": null,
   "id": "1964b3e9-3bdb-4195-9d2d-9fac1d129c3d",
   "metadata": {},
   "outputs": [],
   "source": []
  },
  {
   "cell_type": "markdown",
   "id": "959cb297-71b7-4048-a7b9-f26b6ace0fc9",
   "metadata": {
    "jp-MarkdownHeadingCollapsed": true
   },
   "source": [
    "## Solution"
   ]
  },
  {
   "cell_type": "code",
   "execution_count": null,
   "id": "da7c9ee6-9c14-4090-a320-d3b03b500691",
   "metadata": {
    "jupyter": {
     "source_hidden": true
    }
   },
   "outputs": [],
   "source": [
    "# Solution\n",
    "import matplotlib.pyplot as plt\n",
    "import numpy as np\n",
    "points_sp = np.stack([\n",
    "    np.array([-1000, -500, 0]),\n",
    "    np.array([-400, 400, 0]),\n",
    "    np.array([0, 0, 0]),\n",
    "    np.array([300, 300, 0]),\n",
    "    np.array([600, -600, 0]),\n",
    "])\n",
    "rotation = sp_2_ecef @ points_sp.T\n",
    "points_ecef = rotation.T + p_scp\n",
    "\n",
    "\n",
    "plt.figure()\n",
    "plt.plot(points_sp[:, 0], points_sp[:, 1], 'o')\n",
    "plt.xlabel('Slant plane X (meters)')\n",
    "plt.ylabel('Slant plane Y (meters)')\n",
    "plt.title('Target locations in slant plane')\n",
    "plt.show()"
   ]
  },
  {
   "cell_type": "markdown",
   "id": "76aeba22-21f0-4dbd-a0dc-52358faff107",
   "metadata": {},
   "source": [
    "# Create Waveform\n",
    "Recall that the definition of a baseband linear frequency modulated waveform (LFM) is defined by:\n",
    "$$x(t) = e^{j\\pi\\gamma t^2}$$\n",
    "where $\\gamma$ is the chirp rate.  \n",
    "\n",
    "## Problem 1\n",
    "Write a function to compute the response of a LFM."
   ]
  },
  {
   "cell_type": "markdown",
   "id": "94d1ed47-186a-4267-b366-d70863bf890d",
   "metadata": {
    "jp-MarkdownHeadingCollapsed": true
   },
   "source": [
    "## Solution"
   ]
  },
  {
   "cell_type": "code",
   "execution_count": null,
   "id": "78c0b338-c853-45d7-be70-b075c2599d25",
   "metadata": {
    "jupyter": {
     "source_hidden": true
    }
   },
   "outputs": [],
   "source": [
    "# Solution\n",
    "import numpy as np\n",
    "def lfm(t, pulse_duration):\n",
    "    phase = np.pi * chirp_rate * t * t\n",
    "    half_dur = 0.5 * pulse_duration\n",
    "    t_max, t_min = half_dur, -half_dur\n",
    "\n",
    "    mag = np.logical_and(\n",
    "        np.less_equal(t, t_max),\n",
    "        np.greater_equal(t, t_min)\n",
    "    ).astype(float)\n",
    "\n",
    "    return mag * (np.cos(phase) + 1j * np.sin(phase))"
   ]
  },
  {
   "cell_type": "markdown",
   "id": "7f00c655-2a1a-4544-8119-4f0d1de73a31",
   "metadata": {},
   "source": [
    "## Problem 2\n",
    "Recall that the waveform response to a point scattereer is defined by:  \n",
    "\n",
    "$$x(t) = e^{\\pi \\gamma (t-\\frac{2R}{c})^2}$$\n",
    "\n",
    "Where $R$ is the distance to each point scatterer.\n",
    "\n",
    "Using the monostatic approximation $R_{tx}$ = $R_{rx}$, for the center of aperture time, compute what the response would look like for a single pulse to all the points in the scene.  Verify your code by plotting the magitude ($|x|^2$) of the return from each point scatterer individually to show where each pulse lies in the receive window.  Points that have a +x position in the slant plane should be closer to the start of the receive window and points that have a -x position in the slant plane should be closer to the end of the receive window"
   ]
  },
  {
   "cell_type": "markdown",
   "id": "6a65e25e-776a-413e-87fa-e23e5e7fc2f2",
   "metadata": {},
   "source": [
    "## Solution"
   ]
  },
  {
   "cell_type": "code",
   "execution_count": null,
   "id": "41f633d5-94c8-464f-8bef-3c0f6cdba233",
   "metadata": {
    "jupyter": {
     "source_hidden": true
    }
   },
   "outputs": [],
   "source": [
    "# solution\n",
    "coa_pulse = num_pulses // 2\n",
    "targets = [points_ecef[ii,:].flatten() for ii in range(points_ecef.shape[0])]\n",
    "arp_pos = npp.polyval(tx_times[i_pulse], arp_poly.T).T\n",
    "\n",
    "pulse_return_per_target = np.zeros((len(targets), t_fast.size), dtype=np.complex128)\n",
    "for ii, tgt_pos enumerate(targets):\n",
    "    monostatic_distance = 2 * np.linalg.norm(tgt_pos - arp_pos)\n",
    "    \n",
    "    # Using the monostatic approximation we will receive the pulse rx_time\n",
    "    # past tx_time\n",
    "    rx_time = monostatic_distance / speed_of_light\n",
    "    \n",
    "    # Center the ADC around the time delay to the target.  We will clip this to the receive window\n",
    "    # in the lfm function. i,e) if a time delay is outside of the receive window the response will\n",
    "    # be all 0s\n",
    "    t_fast = t_adc - rx_time\n",
    "    \n",
    "    # Compute fast time term.  \n",
    "    pulse_return_per_target[ii, :] = lfm(t_fast)"
   ]
  },
  {
   "cell_type": "markdown",
   "id": "8560d92e-8309-4b57-9ff2-ee48817d7632",
   "metadata": {},
   "source": [
    "# SAR signal simulation"
   ]
  },
  {
   "cell_type": "code",
   "execution_count": null,
   "id": "73890f83-e586-4a1e-be98-c4402ce3fa4c",
   "metadata": {},
   "outputs": [],
   "source": []
  }
 ],
 "metadata": {
  "kernelspec": {
   "display_name": "Python 3 (ipykernel)",
   "language": "python",
   "name": "python3"
  },
  "language_info": {
   "codemirror_mode": {
    "name": "ipython",
    "version": 3
   },
   "file_extension": ".py",
   "mimetype": "text/x-python",
   "name": "python",
   "nbconvert_exporter": "python",
   "pygments_lexer": "ipython3",
   "version": "3.12.8"
  }
 },
 "nbformat": 4,
 "nbformat_minor": 5
}
