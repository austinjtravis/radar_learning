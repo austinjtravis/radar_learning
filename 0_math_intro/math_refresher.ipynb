{
 "cells": [
  {
   "cell_type": "markdown",
   "metadata": {},
   "source": [
    "# Math/Digital Signal Processing (DSP) refresher"
   ]
  },
  {
   "cell_type": "markdown",
   "metadata": {},
   "source": [
    "## Complex Numbers\n",
    "A complex number is a nubwer written in the form $z = a + bi$ where $a$ is known as the \"real\" part and $bi$ is the \"imaginary part.  The imaginary unit $i$ is defined as $i = \\sqrt{-1}$.  Typically in electrical engineers use $i$ to represent current, so you will often see engineers use $j$ as a substitue for $i$ i.e) $j = i = \\sqrt{-1}$.  I'm an electrical engineer so I'm going to force you to use $j$ >:)\n",
    "\n",
    "### Addition\n",
    "Given two complex numbers $z_1 = a + bj$ and $z_2 = c + dj$, their sum and difference is found by adding/subtracting their real and imaginary parts seperately:\n",
    "\n",
    "$$z_1 + z_2 = (a + c) + (b + d)j$$\n",
    "$$z_1 - z_2 = (a - c) + (b - d)j$$\n",
    "\n",
    "### Multiplication\n",
    "#### Scalar multiplication\n",
    "When multiplying a complex number $z = a + bj$ by a real number $\\lambda$ the scalar is multiplied to both real and imaginary parts:\n",
    "$$\\lambda z = \\lambda a + \\lambda b j$$\n",
    "\n",
    "#### Complex multiplication\n",
    "Given two complex numbers $z_1 = a + bj$ and $z_2 = c + dj$, the method for multiplication is using FOIL:\n",
    "$$z_1 z_2 = (a + bj)(c + dj) $$\n",
    "$$z_1 z_2 = (ac - bd) + (ad + bc)j $$\n",
    "\n",
    "### Division\n",
    "Given two complex numbers $z_1 = a + bj$ and $z_2 = c + dj$, division is defined as:\n",
    "$$\\frac{z_1}{z_2} = \\frac{a + bj}{c + dj}$$\n",
    "$$\\frac{z_1}{z_2} = \\left(\\frac{ac + bd}{c^2 + d^2}\\right) +  \\left(\\frac{bc - ad}{c^2 + d^2}\\right)j$$\n",
    "\n",
    "### Inverse (reciprical)\n",
    "The inverse of a complex number $z = a + bj$  is denoted by $z^{-1}$:\n",
    "$$z^{-1} = \\frac{1}{a + bj}$$\n",
    "$$z^{-1} = \\left(\\frac{a}{a^2 + b^2}\\right) - \\left(\\frac{b}{a^2 + b^2}\\right)j$$\n",
    "\n",
    "### Conjugate\n",
    "The complex conjugate of a number $z = a + bj$ is defined as:\n",
    "$$z^{*} = a - bj$$  \n",
    "\n",
    "You will sometimes see conjugation denoted by $\\bar{z}$.  Geometrically speaking, conjugation is simply the reflection around the real axis.  \n",
    "\n",
    "For any complex number $z$, an important product $z\\cdot z^*$ is:\n",
    "$$z\\cdot z^* = a^2 + b^2$$\n",
    "It's important to note that this quantity will always be real\n",
    "\n",
    "### Magnitude   \n",
    "The magnitude of a complex number $z = a + bj$ is defined as:\n",
    "$$|z| = \\sqrt{a^2 + b^2}$$  \n",
    "Geometrically you can think of this as the distance from the origin to the coordinate represented by the complex number  \n",
    "\n",
    "### Phase  \n",
    "The argument (phase) of a complex number $z = a + bj$ is defined as:\n",
    "$$\\angle z = \\tan^{-1}{\\left(\\frac{b}{a}\\right)}$$\n",
    "\n",
    "This is referred to as the phase of a complex number.  Geometrically speaking, the phase of a complex number is the angle between the coordinate represented by the complex number and the real axis\n",
    "### Polar form\n",
    "Complex numbers are often represented in polar coordinates as:\n",
    "$$z = r(\\cos{\\theta} + j\\sin{\\theta})$$\n",
    "where $r$ = $|z|$ and $\\theta = \\arg{z}$.  You will often see this form denoted in a more compact form as $r\\angle \\theta$\n",
    "\n",
    "### Euler's formula\n",
    "Euler's formula defines the fundamental relationship between complex exponentials and triginometric functions.  Euler's formula states:\n",
    "$$e^{j\\theta} = \\cos{\\theta} + j\\sin{\\theta} $$  \n",
    "\n",
    "You may ask yourself what the usefulness of this is and its power comes when performing math operations between complex numbers.  Recall that $e^{a} \\cdot e^{b} = e^{a + b}$ and $\\frac{e^{a}}{e^{b}} = e^{a - b}$ which means if we want to multiply and divide complex numbers we don't have to do complicated math in rectangular coordinates and instead can just do addition/subtraction with exponent powers.  \n",
    "\n",
    "## How waves are represented as complex exponentials\n",
    "Waves are often represented as complex exponential form to make operations algebraicly simpler.  Let's define a wave travelling in the +x direction as:\n",
    "$$u(x, t) = A\\cos{\\omega t - k x}$$\n",
    "Where $\\omega$ is the angul frequency of the wave defined as $\\omega = 2\\pi f$ and $k$ is the wavenumber defined as $k = \\frac{2\\pi}{\\lambda}$.  Using euler's formula we can rewrite this as:\n",
    "$$u(x, t) = Ae^{(\\omega t - k x)}$$  \n",
    "\n",
    "Note that using this definition would give us an imaginary part of $\\text{Im}(u(x, t)) = A\\sin{(\\omega t - k x)}$.  However when working with real valued signals like the one above we will only use the real part. i.e) $\\text{Re}(u(x, t))$  \n",
    "\n",
    "NOTE: When we start dealing with propogating plane waves we will find that plane waves are solutions to the wave equation and will have a component travelling in the $\\pm$ x direction which will lead to us utilizing both the real and imaginary part"
   ]
  },
  {
   "cell_type": "markdown",
   "metadata": {},
   "source": [
    "## Convolution\n",
    "Convolution is an operation on two functions which productes a thrid funciton.  The colvolution between two functions $f(t)$ and $g(t)$ is defined as:\n",
    "$$f(t) * g(t) = \\int_{-\\infty}^{\\infty} f(\\tau)g(t-\\tau)d\\tau$$  \n",
    "\n",
    "You can think of convolution as fixing $f(t)$ in time, then sliding $g(t)$ over the function $f(t)$ and integrating the result as you slide $g(t)$ over $f(t)$   \n",
    "\n",
    "**TODO: ADD EXAMPLES? TALK ABOUT PROPTIES LIKE LINEARITY?**  \n",
    "\n",
    "What more can I say that wikipedia doesnt already cover? https://en.wikipedia.org/wiki/Convolution  \n",
    "\n",
    "to apply filters in time domain you convolve the filter with the signal"
   ]
  },
  {
   "cell_type": "markdown",
   "metadata": {},
   "source": [
    "## Fourier transform\n",
    "THe fourier transform is defined as:\n",
    "$$X(\\omega) = \\int_{-\\infty}^{\\infty} x(t)e^{-j\\omega t}dt$$\n",
    "$$x(t) = \\frac{1}{2\\pi}\\int_{-\\infty}^{\\infty}X(\\omega) e^{j\\omega t}$$  \n",
    "\n",
    "This definition may appear intimidating, but you can think of the fourier transform as a relationship between time and frequency of a function.  What the fourier trasnform describes is the frequency content of a function.  The output of the forward transform turns the domain from time to frequeny and the inverse transform turns frequency into time.  This will be very useful for us when working with radar signals and synthetic aperture radar (SAR).  \n",
    "\n",
    "The discrete form of the fourier transform is known as the discrete fourier transform and is defined as:\n",
    "$$X[k] = \\sum_{n=0}^{N-1} x[n] e^{-j2\\pi \\frac{k}{N}n}$$\n",
    "$$x[n] = \\frac{1}{2\\pi}\\sum_{k=0}^{N-1} X[k] e^{j2\\pi \\frac{k}{N}n}$$  \n",
    "\n",
    "Let's walk through an example of finding the fourier transform of a rect function $\\Pi(t)$.  The rect function $\\Pi(t)$ is defined as:\n",
    "$$\n",
    "\\Pi\\left(\\frac{t}{T}\\right) = \\begin{cases}\n",
    "1 & |t| \\leq \\frac{T}{2} ,\\\\\n",
    "0  & \\text{ otherwise}\n",
    "\\end{cases}\n",
    "$$  \n",
    "\n"
   ]
  },
  {
   "cell_type": "code",
   "execution_count": null,
   "metadata": {},
   "outputs": [],
   "source": [
    "import matplotlib.pyplot as plt\n",
    "import numpy as np\n",
    "\n",
    "def rect(x, duration):\n",
    "    return np.where(np.abs(x) <= duration, 1, 0)\n",
    "\n",
    "t = np.linspace(-2, 2, 101)\n",
    "duration = 1\n",
    "t.shape\n",
    "plt.figure()\n",
    "plt.plot(t, rect(t, duration))\n",
    "plt.xlabel('time (sec)')\n",
    "plt.title('$\\Pi(t/T)$')\n",
    "plt.show()"
   ]
  },
  {
   "cell_type": "markdown",
   "metadata": {},
   "source": [
    "To compute the fourier transform of $\\Pi(t/T)$ ($\\mathcal{F}\\{ \\Pi(t/T)\\}$) we plug it into the fouier transform definition:\n",
    "\n",
    "$$\\mathcal{F}\\left\\{ \\Pi\\left(\\frac{t}{T}\\right)\\right\\} = \\int_{-\\infty}^{\\infty} \\Pi\\left(\\frac{t}{T}\\right)e^{-j\\omega t}dt$$  \n",
    "\n",
    "Now the rect function is only nonzero between $-\\frac{T}{2}$ to $+\\frac{T}{2}$ and between there the function is constant (1) so we can change our bounds of integration and value for the function to get:\n",
    "$$\\mathcal{F}\\left\\{ \\Pi\\left(\\frac{t}{T}\\right)\\right\\} = \\int_{-\\frac{T}{2}}^{\\frac{T}{2}} 1 \\cdot e^{-j\\omega t}dt$$  \n",
    "$$\\Pi(\\omega) = \\frac{e^{-j\\omega t}}{-j\\omega} \\Big\\rvert^{\\frac{T}{2}}_{\\frac{-T}{2}}$$ \n",
    "$$\\Pi(\\omega) = \\frac{e^{-j\\omega (\\frac{T}{2})} - e^{-j\\omega (-\\frac{T}{2})}}{-j\\omega} = \\frac{e^{j\\omega \\frac{T}{2}} - e^{-j\\omega \\frac{T}{2}}}{j\\omega}$$  \n",
    "I think i screwed something up here.  I didnt want to factor out the two on the denominator because I need e^-x - e^x/2 to be sin\n",
    "$$\\Pi(\\omega) = \\frac{2T(e^{j\\omega \\frac{T}{2}} - e^{-j\\omega \\frac{T}{2})}}{2Tj\\omega} = \\frac{T}{\\omega \\frac{T}{2}}\\left(\\frac{(e^{j\\omega \\frac{T}{2}} - e^{-j\\omega \\frac{T}{2})}}{j}\\right)$$  \n",
    "using complex exponentional form of sin we can re-write this as \n",
    "$$\\Pi(\\omega) = \\frac{T}{\\omega \\frac{T}{2}} \\sin (\\omega\\frac{T}{2}) = T\\left(\\frac{\\sin (\\omega\\frac{T}{2})}{\\omega\\frac{T}{2}}\\right) = T\\text{sinc}(\\omega\\frac{T}{2})$$  \n",
    "$$\\Pi(\\omega) = T\\text{sinc}(\\omega\\frac{T}{2})$$  \n",
    "\n",
    "Which means that the fourier transform of a rect funciton is a sinc function.  We will later find that this is one of the most important transforms in all of radar/SAR.  \n",
    "\n",
    "We can numerically confirm this by taking the fourier trasnform of a rect function:"
   ]
  },
  {
   "cell_type": "code",
   "execution_count": null,
   "metadata": {},
   "outputs": [],
   "source": [
    "import matplotlib.pyplot as plt\n",
    "import numpy as np\n",
    "\n",
    "def rect(x, duration):\n",
    "    return np.where(np.abs(x) <= duration, 1, 0)\n",
    "\n",
    "t = np.linspace(-2, 2, 101)\n",
    "x = rect(t, duration)\n",
    "y = np.fft.fftshift(np.fft.fft(x))\n",
    "\n",
    "fig, axs = plt.subplots(ncols=2)\n",
    "axs[0].plot(t, rect(t, duration))\n",
    "axs[0].set_xlabel('time (sec)')\n",
    "axs[0].set_title('$\\Pi(t/T)$')\n",
    "\n",
    "axs[1].plot(np.abs(y))\n",
    "axs[1].set_xlabel('frequency (Hz)')\n",
    "axs[1].set_title('$\\Pi(\\omega)$')\n",
    "plt.show()"
   ]
  },
  {
   "cell_type": "markdown",
   "metadata": {},
   "source": [
    "Nobody remembers all fourier transform pairs so often times a table is used to evaluate transforms: https://engineering.purdue.edu/~mikedz/ee301/FourierTransformTable.pdf  \n",
    "\n",
    "I will call out a few ones that we will find useful and come across often:\n",
    "| time domain    | freq domain |\n",
    "| -------- | ------- |\n",
    "| $f(t - t_0)$  | $F(\\omega)e^{-j\\omega t_0}$    |\n",
    "| $f(t)e^{j\\omega_0 t}$ | $F(\\omega - \\omega_0)$     |\n",
    "| $rect(t/T)$    | $T\\text{sinc}(\\omega\\frac{T}{2})$    |\n",
    "| $\\frac{B}{2\\pi}\\text{sinc}(\\frac{Bt}{2})$    | $\\text{rect}(\\frac{\\omega}{B}$)    |\n",
    "| $x(t) * y(t)$    | $X(\\omega)Y(\\omega)$    |  \n",
    "\n",
    "Last one is pretty important and known as the convolution theorem https://en.wikipedia.org/wiki/Convolution_theorem\n",
    "\n",
    "**TODO: TALK ABOUT RESOLUTION IN DOMAINS?**\n",
    "\n",
    "### Challenges\n",
    "- Prove the convolution theorem"
   ]
  },
  {
   "cell_type": "markdown",
   "metadata": {},
   "source": [
    "## Signal sampling/resampling\n",
    "Sampling is the processes of converting a continous signal in time into a discrete signal.  Mathematically for a continous time signal $x(t)$ we define sampling to a discrete sample $n$ as:\n",
    "$$x[n] = x(nT_s)$$ \n",
    "Where $T_s$ is the time in seconds between samples known as the sampling peroid.  Now since we are selectivly choosing when to record a continous signal the question becomes how do we best choose the value of $T_s$ so that we correctly represent the continous signal $x(t)$?  \n",
    "\n",
    "To answer this question we will first define how to sample a signal.  \n",
    "\n",
    "$$ x_i(t) = \\sum_{k=-\\infty}^{+\\infty} x(kT_s) \\delta(t - kT_s)$$  \n",
    "\n",
    "Where $\\delta(t)$ is the dirac delta funciton defined as\n",
    "$$\n",
    "\\delta(t) = \\begin{cases}\n",
    "\\infty &  t=0\\\\\n",
    "0  & t \\neq 0\n",
    "\\end{cases}\n",
    "$$  \n",
    "such that \n",
    "$$\\int_{-\\infty}^{\\infty}\\delta(t)dt = 1$$  \n",
    "\n",
    "One important property of the delta function is known as the sifting property:\n",
    "$$\\int_{-\\infty}^{\\infty}\\delta(t-a)f(t)dt = f(a)$$\n",
    "\n",
    "Using the sifting property of $\\delta$ we can re-write this as\n",
    "$$x_i(t) = \\sum_{k=-\\infty}^{+\\infty} x(t) \\delta(t - kT_s)$$\n",
    "$$x_i(t) = x(t)\\underbrace{\\sum_{k=-\\infty}^{+\\infty} \\delta(t - kT_s)}_{\\delta_{T_s}(t)}$$\n",
    "We define $\\delta_{T_s}(t) = \\sum_{k=-\\infty}^{+\\infty} \\delta(t - kT_s)$ to be an impulse train (sometimes referred to as a comb)"
   ]
  },
  {
   "cell_type": "code",
   "execution_count": null,
   "metadata": {},
   "outputs": [],
   "source": [
    "import matplotlib.pyplot as plt\n",
    "import numpy as np\n",
    "T_s = 1\n",
    "N = 10\n",
    "t = T_s * np.arange(N)\n",
    "impulse_train = np.zeros(N)\n",
    "impulse_train[::T_s] = 1\n",
    "\n",
    "plt.figure()\n",
    "plt.stem(t, impulse_train)\n",
    "plt.title('$\\delta_{T_s}(t)$')\n",
    "plt.xlabel('$t$ (sec)')\n",
    "plt.show()"
   ]
  },
  {
   "cell_type": "markdown",
   "metadata": {},
   "source": [
    "Next to figure out more information about $x_i(t)$ we will look at its fourier transform $X(\\omega)$\n",
    "\n",
    "$$X_i(\\omega) = \\mathcal{F}\\{ x(t) \\delta_{T_s}(t)\\}$$\n",
    "Using the convolution theorem we can write this as\n",
    "$$X_i(\\omega) = \\mathcal{F}\\{ x(t) \\} *  \\mathcal{F}\\{ \\delta_{T_s}(t)\\}$$\n",
    "$$X_i(\\omega) = X(\\omega) *  \\mathcal{F}\\{ \\delta_{T_s}(t)\\}$$\n",
    "\n",
    "Remember `*` is the convolution operator not multiplication! Now to evaluate $\\mathcal{F}\\{ \\delta_{T_s}(t)\\}$ we will look at its fourier series since it is a truly peroid function with period $T_s$.  We'll do this to see if we can figure out a nicer representation of $\\delta_{T_s}(t)$.  Recall that we can represent the fourier series of $x(t)$ as \n",
    "$$x(t) = \\sum_{n=-\\infty}^{\\infty} c_n e^{j\\omega_o n t} $$\n",
    "Where\n",
    "$$\\omega_o = \\frac{2\\pi}{T_o}$$\n",
    "$$c_n = \\frac{1}{T_o}\\int_{0}^{T_o} x(t) e^{-j\\omega n t}dt$$\n",
    "\n",
    "With that in mind we can define the fourier series of $\\delta_{T_s}(t)$ as:\n",
    "$$\\delta_{T_s}(t) = \\sum_{n=-\\infty}^{\\infty} c_n e^{j\\omega_s n t}$$  \n",
    "where $\\omega_s$ is defined as the sampling frequency ($\\omega_s = \\frac{2\\pi}{T_s})$  \n",
    "\n",
    "To evaluate the coefficients $c_n$ for each $n$ we compute\n",
    "$$c_n = \\frac{1}{T_s}\\int_{\\frac{-T_s}{2}}^{\\frac{T_s}{2}} \\delta_{T_s}(t) e^{-j\\omega_s n t}dt$$\n",
    "\n",
    "Recall that over one period $\\delta_{T_s}(t) = \\delta(t)$ which means we can re-write the equation above as:\n",
    "$$c_n = \\frac{1}{T_s}\\int_{\\frac{-T_s}{2}}^{\\frac{T_s}{2}} \\delta(t) e^{-j\\omega_s n t}dt$$\n",
    "\n",
    "For now I'll skip the details but it can be shown that:\n",
    "$$c_n = \\frac{1}{T_s}\\int_{\\frac{-T_s}{2}}^{\\frac{T_s}{2}} \\delta(t) e^{-j\\omega_s n t}dt = \\frac{1}{T_s}$$\n",
    "\n",
    "plugging our value for the fourier series coefficients back into the fourier series representation fo $\\delta_{T_s}(t)$ we see:\n",
    "$$\\delta_{T_s}(t) = \\sum_{n=-\\infty}^{\\infty} c_n e^{j\\omega_s n t} = \\sum_{n=-\\infty}^{\\infty} (\\frac{1}{T_s}) e^{j\\omega_s n t} = \\frac{1}{T_s}\\sum_{n=-\\infty}^{\\infty} e^{j\\omega_s n t}$$  \n",
    "\n",
    "Remember we're interested in the fourier trasnform of $\\delta_{T_s}(t)$ and we just derived a representation of the function using its fourier series.  Now to compute the transform we have\n",
    "$$\\mathcal{F}\\{ \\delta_{T_s}(t) \\} = \\mathcal{F}\\{ \\frac{1}{T_s}\\sum_{n=-\\infty}^{\\infty} e^{j\\omega_s n t}\\} = \\frac{1}{T_s}\\sum_{n=-\\infty}^{\\infty} \\mathcal{F}\\{ e^{j\\omega_s n t} \\}$$\n",
    "Using fourier transform tables we see that\n",
    "$$\\mathcal{F}\\{ \\delta_{T_s}(t) \\} = \\frac{1}{T_s}\\sum_{n=-\\infty}^{\\infty} 2\\pi \\delta(\\omega - n\\omega_s)$$  \n",
    "\n",
    "Recall we were trying to evaluate $X_i(\\omega) = X(\\omega) *  \\mathcal{F}\\{ \\delta_{T_s}(t)\\}$.  Now that we have an expression for $\\mathcal{F}\\{ \\delta_{T_s}(t)\\}$ we'll plug it back into the original equation:\n",
    "\n",
    "$$X_i(\\omega) = X(\\omega) *  \\mathcal{F}\\{ \\delta_{T_s}(t)\\} = X(\\omega) * \\frac{1}{T_s}\\sum_{n=-\\infty}^{\\infty} 2\\pi \\delta(\\omega - n\\omega_s)$$\n",
    "\n",
    "By linearity of convolution we can re-write this as:\n",
    "$$X_i(\\omega) =  \\frac{1}{T_s} \\sum_{n=-\\infty}^{\\infty} X(\\omega) *  2\\pi \\delta(\\omega - n\\omega_s)$$\n",
    "now using the sifting property of $\\delta$\n",
    "$$X_i(\\omega) =  \\frac{1}{T_s} \\sum_{n=-\\infty}^{\\infty} X(\\omega - n\\omega_s) $$\n",
    "\n",
    "This means the spectrum of our sampled interpolation of $x(t)$ is the spectrum of our continous signal $X(\\omega)$ with a copy of it centered around $n\\omega_s$\n"
   ]
  },
  {
   "cell_type": "code",
   "execution_count": null,
   "metadata": {},
   "outputs": [],
   "source": [
    "#TODO: This plot sucks plz make it better\n",
    "import numpy as np\n",
    "import matplotlib.pyplot as plt\n",
    "def rect(x, bw):\n",
    "    return np.where(np.abs(x) <= bw/2, 1, 0)\n",
    "\n",
    "bw = 5\n",
    "w_s = 2 * bw\n",
    "duration = 2\n",
    "T_s = 1 /w_s\n",
    "num_samples = 100\n",
    "num_samp_freq = 5\n",
    "x = np.zeros(num_samples)\n",
    "w = w_s * num_samp_freq * np.fft.fftshift(np.fft.fftfreq(num_samp_freq * num_samples))\n",
    "\n",
    "plt.figure()\n",
    "for n in range((-num_samp_freq)//2 + 1, num_samp_freq//2+1):\n",
    "    x = np.zeros(num_samples)\n",
    "    w = w_s * np.fft.fftshift(np.fft.fftfreq(num_samples))\n",
    "    plt.plot(w + n*w_s, rect(w, bw))\n",
    "\n",
    "tick_vals = list(range((-num_samp_freq + 1)*w_s, num_samp_freq*w_s, w_s))\n",
    "print(tick_vals)\n",
    "tick_labels = [f'${int(w/10)}\\omega_s$' for w in tick_vals] \n",
    "\n",
    "plt.ylabel('$|X(\\omega)|$')\n",
    "plt.xticks(tick_vals, tick_labels)\n",
    "plt.show()"
   ]
  },
  {
   "cell_type": "markdown",
   "metadata": {},
   "source": [
    "Now if we want to extract our original signal we just need to filter out the frequency region which our original signal occupied.  Recall that our band limited signal had bandwidth $\\omega_B$ and the start of the next copy (alias) of our signal occurs at $\\omega_s - \\omega_B$.  What we need to do is construct an ideal low pass filter which will pass frequencies within $\\omega_B$ and reject frequencies at $\\omega_s - \\omega_B$.  \n",
    "\n",
    "So recall to reconstruct a band limited signal $x(t)$ with bandwidth $\\omega_B$ by sampling it we need to:\n",
    "1. generate $x_i(t)$ (sample the signal)\n",
    "2. low pass filter the data with cutoff frequency at $\\omega_B$\n",
    "\n",
    "For this to work we require that $\\omega_B < \\omega_S - \\omega_B \\rightarrow \\omega_s > 2\\omega_B$.  We have just derived one of the most fundamental theorems in all of signal processing: the nyquist theorem.  As we proved above, the nyquist theorem states that Theorem — If a function $x(t)$ contains no frequencies higher than B hertz, then it can be completely determined from its ordinates at a sequence of points spaced less than $\\frac{1}{2B}$ seconds apart.  \n",
    "\n",
    "**TODO: ADD CASE WHEN UNDERSAMPLED AND SHOW ALIASES**\n",
    "\n",
    "## Whittaker-shannon interpolation formula  \n",
    "Using what we derived above we know that we can perfectly reconstruct a band limited signal $x(t)$ if we assume we sample the signal at the nyquist rate then to do that we need to sample the signal then low pass filter it.\n",
    "\n",
    "$$x(t) = x_i(t) * h(t)$$\n",
    "$$x(t) = \\sum_{k=-\\infty}^{\\infty} x(kT_s)h(t - kT_s)$$\n",
    "\n",
    "The ideal low pass filter is defined as \n",
    "\n",
    "$$\n",
    "H(\\omega) = \\begin{cases}\n",
    "1 & |\\omega| < \\omega_c,\\\\\n",
    "0  & 0 \\text{ else}\n",
    "\\end{cases}\n",
    "$$  \n",
    "\n",
    "To find the representation in the time domain we take the fourier transform of $H(\\omega)$.  Using fourier transofrm tables we can find that this becomes:\n",
    "\n",
    "$$h(t) = \\text{sinc}\\left(\\frac{t}{T_s}\\right)$$\n",
    "\n",
    "Plugging this in we come to the shannon whittaker interpolation formula:\n",
    "$$x(t) = \\sum_{k=-\\infty}^{\\infty} x(kT_s)\\text{sinc}\\left(\\frac{t - kT_s}{T_x}\\right)$$\n",
    "\n",
    "This result is known as sinc interpolation  \n",
    "\n",
    "**TODO: ADD PLOT OF THIS?** \n",
    "\n",
    "## Upsampling/downsampling\n",
    "Upsampling and downsampling are techniques to change the sampling rate of an already discrete signal $x[n]$.  Note the rate conversion methods do not gain you any additional information if the signal was sampled at the nyquist rate.  They are interpolation methods to gain more samples in the signal\n",
    "\n",
    "### Upsampling\n",
    "Upsampling is where you have an existing signel $x[n]$ with sampling rate $f_s$ and you want to increase its sampling rate by an integer factor of $L$.  To upsample:\n",
    "1. Between each sample of $x[n]$ insert $L-1$ zeros\n",
    "2. Lowpass filter original signals spectrum\n",
    "\n",
    "Mathematically this process can be defined as:\n",
    "$$x_{\\uparrow L} = x_z[n] * h[n]$$\n",
    "Where $h[n]$ is the low pass filter and $x_z[n]$ is defined as:\n",
    "$$\n",
    "x_z[n] = \\begin{cases}\n",
    "x[\\frac{n}{L}] & \\frac{n}{L} \\in \\mathbb{Z},\\\\\n",
    "0  & 0 \\text{ otherwise}\n",
    "\\end{cases}\n",
    "$$\n",
    "\n",
    "### Example upsample a cosine wave\n",
    "For this example we will be upsampling the signal $x(t) = \\cos{(2\\pi 10 t)}$\n"
   ]
  },
  {
   "cell_type": "code",
   "execution_count": null,
   "metadata": {},
   "outputs": [],
   "source": [
    "import matplotlib.pyplot as plt\n",
    "import numpy as np\n",
    "\n",
    "fs = 10\n",
    "ts = 1/fs\n",
    "duration = 1\n",
    "n = fs * duration\n",
    "t = ts * np.arange(n)\n",
    "x = np.cos(2 * np.pi * fs/2 * t)\n",
    "\n",
    "plt.figure()\n",
    "plt.plot(t, x)\n",
    "plt.xlabel('time (s)')\n",
    "plt.title(f'$x(t) = \\cos(2\\pi 10 t)$')\n",
    "plt.show()\n"
   ]
  },
  {
   "cell_type": "markdown",
   "metadata": {},
   "source": [
    "Next we look at what the signal would look like upsampled"
   ]
  },
  {
   "cell_type": "code",
   "execution_count": null,
   "metadata": {},
   "outputs": [],
   "source": [
    "up_factor = 10\n",
    "up_fs = up_factor * fs\n",
    "up_ts = 1/up_fs\n",
    "n_up = up_fs * duration\n",
    "t_up = up_ts * np.arange(n_up)\n",
    "x_up = np.cos(2 * np.pi * fs/2 * t_up)\n",
    "\n",
    "plt.figure()\n",
    "plt.plot(t_up, x_up)\n",
    "plt.show()"
   ]
  },
  {
   "cell_type": "markdown",
   "metadata": {},
   "source": [
    "Next we insert the $L-1$ zeros"
   ]
  },
  {
   "cell_type": "code",
   "execution_count": null,
   "metadata": {},
   "outputs": [],
   "source": [
    "y_up = np.zeros(n_up)\n",
    "y_up[::up_factor] = x\n",
    "plt.figure()\n",
    "plt.plot(t_up, y_up, '.')\n",
    "plt.show()"
   ]
  },
  {
   "cell_type": "markdown",
   "metadata": {},
   "source": [
    "Next we look at the spectrum of the signal"
   ]
  },
  {
   "cell_type": "code",
   "execution_count": null,
   "metadata": {},
   "outputs": [],
   "source": [
    "w = up_fs * np.fft.fftshift(np.fft.fftfreq(n_up))\n",
    "fig, axs = plt.subplots(ncols=2)\n",
    "axs = axs.flatten()\n",
    "axs[0].plot(w, np.abs(np.fft.fftshift(np.fft.fft(x_up))), '.')\n",
    "axs[0].set_title('original signal spectrum')\n",
    "y_up_fft = np.fft.fftshift(np.fft.fft(y_up))\n",
    "axs[1].plot(w, np.abs(y_up_fft), '.')\n",
    "axs[1].set_title('upsampled signal spectrum')\n",
    "plt.show()"
   ]
  },
  {
   "cell_type": "markdown",
   "metadata": {},
   "source": [
    "Next we filter out the aliases in the spectrum"
   ]
  },
  {
   "cell_type": "code",
   "execution_count": null,
   "metadata": {},
   "outputs": [],
   "source": [
    "tmp = np.zeros(x.size * up_factor, dtype=np.complex128)\n",
    "tmp[:x.size] = np.fft.fft(x)\n",
    "filtered = up_factor*np.fft.ifft(tmp) # Scale amp\n",
    "plt.figure()\n",
    "plt.plot(t_up, np.real(filtered))\n",
    "plt.plot(t, x)\n",
    "plt.show()"
   ]
  },
  {
   "cell_type": "markdown",
   "metadata": {},
   "source": [
    "Since this was a simple function we can compare the error of upsampling method"
   ]
  },
  {
   "cell_type": "code",
   "execution_count": null,
   "metadata": {},
   "outputs": [],
   "source": [
    "plt.figure()\n",
    "plt.plot(t_up, np.real(filtered) - x_up)\n",
    "plt.show()"
   ]
  },
  {
   "cell_type": "markdown",
   "metadata": {},
   "source": [
    "### Downsampling\n",
    "Downsampling is where you have an existing signel $x[n]$ with sampling rate $f_s$ and you want to decrease its sampling rate by an integer factor of $K$.  To downsample:\n",
    "1. Lowpass filter original with cutoff frequency of lower sampling rate\n",
    "1. Take only every $K$'th sample from the filtered signal\n",
    "\n",
    "Mathematically this process can be defined as:\n",
    "$$x_{\\downarrow K} = (x[n] * h[n])[nK]$$\n",
    "Where $h[n]$ is the low pass filter"
   ]
  },
  {
   "cell_type": "markdown",
   "metadata": {},
   "source": [
    "## Upampling/Downsampling of a SAR image\n",
    "For this you'll need to download the SICD from here https://six-library-github-public.s3.us-east-2.amazonaws.com/sicd_example_1_PFA_RE32F_IM32F_HH.nitf and then update the path to the sicd in the code below"
   ]
  },
  {
   "cell_type": "code",
   "execution_count": null,
   "metadata": {},
   "outputs": [],
   "source": [
    "import holoviews as hv\n",
    "hv.extension('bokeh')\n"
   ]
  },
  {
   "cell_type": "code",
   "execution_count": null,
   "metadata": {},
   "outputs": [],
   "source": [
    "from pathlib import Path\n",
    "from sarpy.io.complex.sicd import SICDReader\n",
    "from sarpy.visualization.remap import pedf\n",
    "\n",
    "p = Path('/mnt/c/Users/Austin/Documents/GitHub/radar_learning/0_math_intro/sicd_example_1_PFA_RE32F_IM32F_HH.nitf')\n",
    "reader = SICDReader(str(p))\n",
    "pixels = reader[:, :]\n"
   ]
  },
  {
   "cell_type": "code",
   "execution_count": null,
   "metadata": {},
   "outputs": [],
   "source": [
    "hv.Image(pedf(pixels)).opts(width=800, height=800, cmap='gray')"
   ]
  },
  {
   "cell_type": "markdown",
   "metadata": {},
   "source": [
    "## Upsample image"
   ]
  },
  {
   "cell_type": "code",
   "execution_count": null,
   "metadata": {},
   "outputs": [],
   "source": [
    "import numpy as np\n",
    "img_fft = np.fft.fftshift(np.fft.fft2(pixels), axes=(0, 1))\n",
    "up_factor = 2\n",
    "tmp = np.pad(img_fft, (up_factor*img_fft.shape[0], up_factor*img_fft.shape[1]), constant_values=0) \n",
    "hv.Image(np.log10(np.abs(tmp))).opts(width=800, height=800, cmap='gray')"
   ]
  },
  {
   "cell_type": "markdown",
   "metadata": {},
   "source": [
    "## Downsample image"
   ]
  },
  {
   "cell_type": "code",
   "execution_count": null,
   "metadata": {},
   "outputs": [],
   "source": []
  },
  {
   "cell_type": "markdown",
   "metadata": {},
   "source": [
    "**TODO**:\n",
    "- downsampling via filter\n",
    "- downsample via perfect filter\n",
    "- rational resampling"
   ]
  },
  {
   "cell_type": "markdown",
   "metadata": {},
   "source": [
    "## Windowing (apoziation/tapering)  \n",
    "\n",
    "Windowing is a technique for shaping the spectrum of a signal to reduce the sidelobe levels in the opposite domain.  Typically windowing functions will be smooth \"bell-shaped\".  The thought behinds windowing is that for a band limited signal (like a rect function) it is impossible to represent the infinite number of frequencies required to reach  \n",
    "- introduce\n",
    "- plot some windows\n",
    "    - Maybe a 2D example?\n",
    "- SVA?"
   ]
  },
  {
   "cell_type": "code",
   "execution_count": null,
   "metadata": {},
   "outputs": [],
   "source": [
    "from scipy.signal.windows import kaiser\n",
    "import matplotlib.pyplot as plt\n",
    "import numpy as np\n",
    "def db(x):\n",
    "    return 20 * np.log10(np.abs(x))\n",
    "\n",
    "kaiser_window = kaiser(51, beta=14)\n",
    "fig, axs = plt.subplots(\n",
    "    ncols=2,\n",
    ")\n",
    "axs = axs.flatten()\n",
    "axs[0].plot(kaiser_window)\n",
    "\n",
    "impulse_response = np.fft.fftshift(np.fft.fft(kaiser_window, n=2048))\n",
    "freq = np.linspace(-0.5, 0.5, impulse_response.size)\n",
    "# axs[1].plot(freq, db(impulse_response) - db(impulse_response).max())\n",
    "axs[1].plot(freq, db(impulse_response) - db(impulse_response).max())\n",
    "fig.suptitle('Kaiser')\n",
    "plt.show()"
   ]
  },
  {
   "cell_type": "code",
   "execution_count": null,
   "metadata": {},
   "outputs": [],
   "source": [
    "from scipy.signal.windows import taylor\n",
    "import matplotlib.pyplot as plt\n",
    "import numpy as np\n",
    "def db(x):\n",
    "    return 20 * np.log10(np.abs(x))\n",
    "\n",
    "sidelobe_level = 30\n",
    "taylor_window = taylor(51, nbar=4, sll=sidelobe_level)\n",
    "fig, axs = plt.subplots(\n",
    "    ncols=2,\n",
    ")\n",
    "axs = axs.flatten()\n",
    "axs[0].plot(taylor_window)\n",
    "\n",
    "impulse_response = np.fft.fftshift(np.fft.fft(taylor_window, n=2048))\n",
    "freq = np.linspace(-0.5, 0.5, impulse_response.size)\n",
    "axs[1].plot(freq, db(impulse_response) - db(impulse_response).max())\n",
    "axs[1].hlines(-sidelobe_level, freq.min(), freq.max(), linestyles='dashed', colors='red')\n",
    "fig.suptitle('taylor')\n",
    "plt.show()"
   ]
  },
  {
   "cell_type": "markdown",
   "metadata": {},
   "source": [
    "## Apodizing SAR image"
   ]
  },
  {
   "cell_type": "code",
   "execution_count": null,
   "metadata": {},
   "outputs": [],
   "source": [
    "from pathlib import Path\n",
    "from sarpy.io.complex.sicd import SICDReader\n",
    "from sarpy.visualization.remap import pedf\n",
    "\n",
    "p = Path('/mnt/c/Users/Austin/Documents/GitHub/radar_learning/0_math_intro/sicd_example_1_PFA_RE32F_IM32F_HH.nitf')\n",
    "reader = SICDReader(str(p))\n",
    "pixels = reader[:, :]\n"
   ]
  },
  {
   "cell_type": "markdown",
   "metadata": {},
   "source": [
    "1. Create the window"
   ]
  },
  {
   "cell_type": "code",
   "execution_count": null,
   "metadata": {},
   "outputs": [],
   "source": [
    "import matplotlib.pyplot as plt\n",
    "import numpy as np\n",
    "from skimage.filters import window\n",
    "window_2d = window(('kaiser', 14), pixels.shape)\n",
    "plt.figure()\n",
    "plt.imshow(window_2d)\n",
    "plt.show()"
   ]
  },
  {
   "cell_type": "markdown",
   "metadata": {},
   "source": [
    "2. apply window to image"
   ]
  },
  {
   "cell_type": "code",
   "execution_count": null,
   "metadata": {},
   "outputs": [],
   "source": [
    "from skimage.filters import window\n",
    "import numpy as np\n",
    "windowed_image = np.fft.ifft2(\n",
    "    np.fft.fftshift(\n",
    "        np.fft.fft2(pixels), \n",
    "        axes=(0, 1)\n",
    "    ) * window_2d, \n",
    ")"
   ]
  },
  {
   "cell_type": "code",
   "execution_count": null,
   "metadata": {},
   "outputs": [],
   "source": [
    "orig = hv.Image(pedf(pixels)).opts(width=600, height=600, cmap='gray')\n",
    "windowed = hv.Image(pedf(windowed_image)).opts(width=600, height=600, cmap='gray')\n",
    "(orig + windowed).cols(2)"
   ]
  },
  {
   "cell_type": "markdown",
   "metadata": {},
   "source": [
    "## Linear time invariant (LTI) systems\n",
    "- Definition\n",
    "- transfer funciton definition\n",
    "- example on how to invert out a trasnfer function"
   ]
  },
  {
   "cell_type": "markdown",
   "metadata": {},
   "source": [
    "## Digital Filter design\n",
    "- Definition\n",
    "- FIR/IIR\n",
    "- Basics of filters: passband, stop band, cutoff freq, ripple, ...\n",
    "- Maximally flat filter (butterworth) vs chebychev\n",
    "- Z transform?\n",
    "- Pole/zeros?"
   ]
  }
 ],
 "metadata": {
  "kernelspec": {
   "display_name": "Python 3 (ipykernel)",
   "language": "python",
   "name": "python3"
  },
  "language_info": {
   "codemirror_mode": {
    "name": "ipython",
    "version": 3
   },
   "file_extension": ".py",
   "mimetype": "text/x-python",
   "name": "python",
   "nbconvert_exporter": "python",
   "pygments_lexer": "ipython3",
   "version": "3.11.2"
  }
 },
 "nbformat": 4,
 "nbformat_minor": 4
}
