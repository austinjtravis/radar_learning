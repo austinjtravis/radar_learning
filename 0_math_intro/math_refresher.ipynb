{
 "cells": [
  {
   "cell_type": "markdown",
   "metadata": {},
   "source": [
    "# Math/Digital Signal Processing (DSP) refresher"
   ]
  },
  {
   "cell_type": "markdown",
   "metadata": {},
   "source": [
    "## Complex Numbers\n",
    "A complex number is a nubwer written in the form $z = a + bi$ where $a$ is known as the \"real\" part and $bi$ is the \"imaginary part.  The imaginary unit $i$ is defined as $i = \\sqrt{-1}$.  Typically in electrical engineers use $i$ to represent current, so you will often see engineers use $j$ as a substitue for $i$ i.e) $j = i = \\sqrt{-1}$.  I'm an electrical engineer so I'm going to force you to use $j$ >:)\n",
    "\n",
    "### Addition\n",
    "Given two complex numbers $z_1 = a + bj$ and $z_2 = c + dj$, their sum and difference is found by adding/subtracting their real and imaginary parts seperately:\n",
    "\n",
    "$$z_1 + z_2 = (a + c) + (b + d)j$$\n",
    "$$z_1 - z_2 = (a - c) + (b - d)j$$\n",
    "\n",
    "### Multiplication\n",
    "#### Scalar multiplication\n",
    "When multiplying a complex number $z = a + bj$ by a real number $\\lambda$ the scalar is multiplied to both real and imaginary parts:\n",
    "$$\\lambda z = \\lambda a + \\lambda b j$$\n",
    "\n",
    "#### Complex multiplication\n",
    "Given two complex numbers $z_1 = a + bj$ and $z_2 = c + dj$, the method for multiplication is using FOIL:\n",
    "$$z_1 z_2 = (a + bj)(c + dj) $$\n",
    "$$z_1 z_2 = (ac - bd) + (ad + bc)j $$\n",
    "\n",
    "### Division\n",
    "Given two complex numbers $z_1 = a + bj$ and $z_2 = c + dj$, division is defined as:\n",
    "$$\\frac{z_1}{z_2} = \\frac{a + bj}{c + dj}$$\n",
    "$$\\frac{z_1}{z_2} = \\left(\\frac{ac + bd}{c^2 + d^2}\\right) +  \\left(\\frac{bc - ad}{c^2 + d^2}\\right)j$$\n",
    "\n",
    "### Inverse (reciprical)\n",
    "The inverse of a complex number $z = a + bj$  is denoted by $z^{-1}$:\n",
    "$$z^{-1} = \\frac{1}{a + bj}$$\n",
    "$$z^{-1} = \\left(\\frac{a}{a^2 + b^2}\\right) - \\left(\\frac{b}{a^2 + b^2}\\right)j$$\n",
    "\n",
    "### Conjugate\n",
    "The complex conjugate of a number $z = a + bj$ is defined as:\n",
    "$$z^{*} = a - bj$$  \n",
    "\n",
    "You will sometimes see conjugation denoted by $\\bar{z}$.  Geometrically speaking, conjugation is simply the reflection around the real axis.  \n",
    "\n",
    "For any complex number $z$, an important product $z\\cdot z^*$ is:\n",
    "$$z\\cdot z^* = a^2 + b^2$$\n",
    "It's important to note that this quantity will always be real\n",
    "\n",
    "### Magnitude   \n",
    "The magnitude of a complex number $z = a + bj$ is defined as:\n",
    "$$|z| = \\sqrt{a^2 + b^2}$$  \n",
    "Geometrically you can think of this as the distance from the origin to the coordinate represented by the complex number  \n",
    "\n",
    "### Argument\n",
    "- Basic definition\n",
    "- Addition/subtraction/multiplication/divistion\n",
    "- Conjugate, magnitude, argument\n",
    "- polar form\n",
    "- eulers thing\n",
    "- How waves are represented as complex exponentials"
   ]
  },
  {
   "cell_type": "markdown",
   "metadata": {},
   "source": [
    "## Convolution\n",
    "- Definition and some examples"
   ]
  },
  {
   "cell_type": "markdown",
   "metadata": {},
   "source": [
    "## Fourier transform\n",
    "- Definition\n",
    "- Convolution theorem\n",
    "- Basic transforms\n",
    "- Examples\n",
    "\n",
    "### Challenges\n",
    "- Prove the convolution theorem"
   ]
  },
  {
   "cell_type": "markdown",
   "metadata": {},
   "source": [
    "## Signal sampling/resampling\n",
    "- Sampling definition\n",
    "- nyquist theorem\n",
    "- Upsampling via filter\n",
    "- upsample via perfect filter\n",
    "- downsampling via filter\n",
    "- downsample via perfect filter\n",
    "- rational resampling"
   ]
  },
  {
   "cell_type": "markdown",
   "metadata": {},
   "source": [
    "## Linear time invariant (LTI) systems\n",
    "- Definition\n",
    "- transfer funciton definition\n",
    "- example on how to invert out a trasnfer function"
   ]
  },
  {
   "cell_type": "markdown",
   "metadata": {},
   "source": [
    "## Digital Filter design\n",
    "- Definition\n",
    "- FIR/IIR\n",
    "- Basics of filters: passband, stop band, cutoff freq, ripple, ...\n",
    "- Maximally flat filter (butterworth) vs chebychev\n",
    "- Z transform?\n",
    "- Pole/zeros?"
   ]
  }
 ],
 "metadata": {
  "language_info": {
   "name": "python"
  }
 },
 "nbformat": 4,
 "nbformat_minor": 2
}
