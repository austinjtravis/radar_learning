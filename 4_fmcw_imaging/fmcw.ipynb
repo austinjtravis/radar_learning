{
 "cells": [
  {
   "cell_type": "markdown",
   "metadata": {},
   "source": [
    "# Frequency modulated continuous wave (FMCW) radar"
   ]
  },
  {
   "cell_type": "markdown",
   "metadata": {},
   "source": [
    "# 1. Introduction\n",
    "- Should be putting together all the concepts we've learned"
   ]
  },
  {
   "cell_type": "markdown",
   "metadata": {},
   "source": [
    "# 2. Range estimation"
   ]
  },
  {
   "cell_type": "markdown",
   "metadata": {},
   "source": [
    "# 3. Velocity Estimation"
   ]
  },
  {
   "cell_type": "markdown",
   "metadata": {},
   "source": [
    "# 4. Range-Doppler map\n",
    "- blocking N chirps to estimate velocity over"
   ]
  },
  {
   "cell_type": "code",
   "execution_count": null,
   "metadata": {},
   "outputs": [],
   "source": [
    "import numpy as np\n",
    "import matplotlib.pyplot as plt\n",
    "from scipy.constants import speed_of_light\n",
    "BW = 150e6  # bandwidth\n",
    "fc = 77e9  # carrier frequency\n",
    "n_adc = 256  # number of adc samples\n",
    "n_chirp = 512 # Number of chirps per \"image\"\n",
    "T = 10e-6  # PRI \n",
    "PRF = 1/T\n",
    "f_s = n_adc/T  # sampling frequency\n",
    "dt = 1/f_s  # sampling interval\n",
    "chirp_rate = BW/T\n",
    "wavelen = speed_of_light/fc\n",
    "fast_time = dt * np.arange(0, n_adc)\n",
    "slow_time = T * np.arange(n_chirp)\n",
    "n_transmitters = 1\n",
    "n_receivers = 8\n",
    "max_velocity = wavelen/(T*4)  # Max unambiguous velocity m/s\n",
    "range_resolution = speed_of_light/(2*BW)\n",
    "max_range = f_s*speed_of_light/(2*chirp_rate) \n",
    "d_rx = wavelen/2  # distance between receivers\n",
    "d_tx = 4*d_rx  # distance between transmitters\n",
    "\n",
    "# Range, velocity, and angle axes\n",
    "R = range_resolution * np.arange(fast_time.size)\n",
    "# R = np.arange(0, max_range, range_resolution)  # range axis\n",
    "V = np.linspace(-max_velocity, max_velocity, n_chirp)  # Velocity axis\n",
    "ang_ax = np.arange(-90, 90, 1)  # angle axis\n",
    "print(R)\n",
    "\n"
   ]
  },
  {
   "cell_type": "code",
   "execution_count": null,
   "metadata": {},
   "outputs": [],
   "source": [
    "print(fast_time[-1] - fast_time[0])\n",
    "print(slow_time[1])\n"
   ]
  },
  {
   "cell_type": "code",
   "execution_count": null,
   "metadata": {},
   "outputs": [],
   "source": [
    "# Setup the antennas\n",
    "tx_loc = np.zeros((n_transmitters, 3))\n",
    "tx_loc[:, 0] = d_tx * np.arange(n_transmitters)\n",
    "\n",
    "rx_loc = np.zeros((n_receivers, 3))\n",
    "rx_loc[:, 0] = tx_loc[-1][0] + d_tx + d_rx * np.arange(n_receivers)\n",
    "\n",
    "fig = plt.figure()\n",
    "fig, ax = plt.subplots(subplot_kw={'projection': '3d'})\n",
    "ax.scatter(tx_loc[:, 0], tx_loc[:, 1], tx_loc[:, 2], color='b', marker='o')\n",
    "ax.scatter(rx_loc[:, 0], rx_loc[:, 1], rx_loc[:, 2], color='r', marker='x')\n",
    "plt.figure()\n",
    "plt.plot(tx_loc[:, 0], tx_loc[:, 1], 'bo')\n",
    "plt.plot(rx_loc[:, 0], rx_loc[:, 1], 'rx')\n",
    "\n"
   ]
  },
  {
   "cell_type": "code",
   "execution_count": null,
   "metadata": {},
   "outputs": [],
   "source": [
    "# set up targets\n",
    "def create_target(pos, vel):\n",
    "    _pos = np.zeros(3)\n",
    "    _vel = np.zeros(3)\n",
    "    _pos[0] = pos[0]\n",
    "    _pos[1] = pos[1]\n",
    "\n",
    "    _vel[0] = vel[0]\n",
    "    _vel[1] = vel[1]\n",
    "    return _pos + _vel[None, :] * slow_time[:, None]\n",
    "\n",
    "targets = [\n",
    "    create_target(\n",
    "        pos=(50, 0),\n",
    "        vel=(0, 0)\n",
    "    )\n",
    "]\n",
    "\n",
    "# t2_pos = np.array([70, 0, 0])\n",
    "# t2_vel = np.array([-20, 0, 0])\n",
    "\n",
    "# t2_loc = t2_pos + t2_vel[None, :] * slow_time[:, None]\n",
    "\n",
    "# t3_pos = np.array([70, 30, 0])\n",
    "# t3_vel = np.array([0, 0, 0])\n",
    "# t3_loc = t3_pos + t3_vel[None, :] * slow_time[:, None]\n",
    "\n",
    "plt.figure()\n",
    "plt.plot(tx_loc[:, 0], tx_loc[:, 1], color='b', marker='o', label='transmitters')\n",
    "plt.plot(rx_loc[:, 0], rx_loc[:, 1], color='r', marker='x', label='receivers')\n",
    "for tgt in targets:\n",
    "    plt.plot(tgt[:, 0], tgt[:, 1], '.', label='target')\n",
    "plt.legend()\n",
    "plt.grid()\n",
    "\n",
    "plt.figure()\n",
    "for tgt in targets:\n",
    "    plt.plot(tgt[:, 0], tgt[:, 1], '.', label='target')\n",
    "plt.grid()"
   ]
  },
  {
   "cell_type": "code",
   "execution_count": null,
   "metadata": {},
   "outputs": [],
   "source": [
    "# compute delays to targets\n",
    "delays = np.zeros((n_transmitters, n_receivers, len(targets), slow_time.size))\n",
    "distances = np.zeros((n_transmitters, n_receivers, len(targets), slow_time.size))\n",
    "for i, tx_pos in enumerate(tx_loc):\n",
    "    for j, rx_pos in enumerate(rx_loc):\n",
    "        for k, tgt in enumerate(targets):\n",
    "            tx_to_target = np.linalg.norm(tgt - tx_pos, axis=-1)\n",
    "            rx_to_target = np.linalg.norm(tgt - rx_pos, axis=-1)\n",
    "            distances[i, j, k, :] = (tx_to_target + rx_to_target)  # just for debugging \n",
    "            delays[i, j, k, :] = (tx_to_target + rx_to_target) / (speed_of_light) + 1.8e-7\n",
    "delays.shape\n"
   ]
  },
  {
   "cell_type": "code",
   "execution_count": null,
   "metadata": {},
   "outputs": [],
   "source": [
    "# plt.figure()\n",
    "# plt.plot(delays[0, 0, :], '.')\n",
    "# plt.grid()\n",
    "# print(delays[0, 0, :].min())\n",
    "# print(delays[0, 0, :].max())\n",
    "\n",
    "plt.figure()\n",
    "for i in range(n_receivers):\n",
    "    for k in range(len(targets)):\n",
    "        plt.plot(distances[0, i, k, :])\n",
    "plt.figure()\n",
    "for i in range(n_receivers):\n",
    "    for k in range(len(targets)):\n",
    "        plt.plot(delays[0, i, k, :])\n",
    "# plt.ylim([0, 250])\n",
    "\n"
   ]
  },
  {
   "cell_type": "code",
   "execution_count": 29,
   "metadata": {},
   "outputs": [],
   "source": [
    "# compute returned signal\n",
    "sig = np.zeros((n_transmitters, n_receivers, fast_time.size, slow_time.size), dtype=np.complex128)\n",
    "def received_signal(t, delay):\n",
    "    # return np.exp(1.0j * (-2*np.pi * fc * delay - 2 * np.pi * chirp_rate * delay * t + np.pi *chirp_rate * delay**2))\n",
    "    return np.exp(1.0j * (-2*np.pi * fc * delay - 2 * np.pi * chirp_rate * delay * t))\n",
    "\n",
    "for i_tx in range(n_transmitters):\n",
    "    for i_rx in range(n_receivers):\n",
    "        for i_chirp in range(n_chirp):\n",
    "            for i_tgt in range(len(targets)):\n",
    "                sig[i_tx, i_rx, :, i_chirp] += received_signal(fast_time, delays[i_tx, i_rx, i_tgt, i_chirp])"
   ]
  },
  {
   "cell_type": "code",
   "execution_count": null,
   "metadata": {},
   "outputs": [],
   "source": [
    "ref = sig[0, 0, :, :]\n",
    "print(ref.shape)\n",
    "range_fft = np.fft.fft(ref, axis=0)\n",
    "\n",
    "def db(x):\n",
    "    return 20 * np.log10(np.abs(x))\n",
    "\n",
    "plt.figure()\n",
    "plt.imshow(db(np.fft.fftshift(range_fft, axes=0)))\n",
    "\n",
    "doppler_fft = np.fft.fftshift(np.fft.fft(range_fft, axis=1))\n",
    "plt.figure()\n",
    "plt.imshow(\n",
    "    db(doppler_fft),\n",
    "    extent=[V.min(), V.max(), R.min(), R.max()],\n",
    "    origin='lower',\n",
    ")\n",
    "plt.ylabel('Range (meters)')\n",
    "plt.xlabel('velocity (m/s)')\n",
    "\n",
    "r, c = np.unravel_index(\n",
    "    np.argmax(np.abs(doppler_fft).flatten()),\n",
    "    doppler_fft.shape\n",
    ")\n",
    "rg_cut = doppler_fft[:, c]\n",
    "dp_cut = doppler_fft[r, :]\n",
    "plt.figure()\n",
    "plt.plot(R, db(rg_cut))\n",
    "plt.xlabel('Range (meters)')\n",
    "\n",
    "plt.figure()\n",
    "plt.plot(V, db(dp_cut))\n",
    "plt.xlabel('velocity (m/s)')\n",
    "\n",
    "print(V[c])\n",
    "print(R[r])\n"
   ]
  },
  {
   "cell_type": "code",
   "execution_count": null,
   "metadata": {},
   "outputs": [],
   "source": [
    "ref_ang = sig[0, :, :, 0].T\n",
    "print(ref_ang.shape)\n",
    "range_fft = np.fft.fftshift(np.fft.fft(ref_ang, axis=0), axes=0)\n",
    "\n",
    "def db(x):\n",
    "    return 20 * np.log10(np.abs(x))\n",
    "\n",
    "plt.figure()\n",
    "plt.imshow(db(range_fft))\n",
    "\n",
    "angle_fft = np.fft.fftshift(np.fft.fft(range_fft, axis=1), axes=1)\n",
    "plt.figure()\n",
    "plt.imshow(\n",
    "    db(angle_fft),\n",
    "    aspect='auto'\n",
    ")\n",
    "\n",
    "r, c = np.unravel_index(\n",
    "    np.argmax(np.abs(range_fft).flatten()),\n",
    "    range_fft.shape\n",
    ")\n",
    "az_cut = range_fft[:, c]\n",
    "plt.figure()\n",
    "plt.plot(np.unwrap(np.angle(az_cut)))"
   ]
  },
  {
   "cell_type": "markdown",
   "metadata": {},
   "source": [
    "# 5. Range-Angle map (our image!)\n",
    "- Angle of arrival estimation over our array!"
   ]
  }
 ],
 "metadata": {
  "kernelspec": {
   "display_name": "Python 3",
   "language": "python",
   "name": "python3"
  },
  "language_info": {
   "codemirror_mode": {
    "name": "ipython",
    "version": 3
   },
   "file_extension": ".py",
   "mimetype": "text/x-python",
   "name": "python",
   "nbconvert_exporter": "python",
   "pygments_lexer": "ipython3",
   "version": "3.11.5"
  }
 },
 "nbformat": 4,
 "nbformat_minor": 2
}
