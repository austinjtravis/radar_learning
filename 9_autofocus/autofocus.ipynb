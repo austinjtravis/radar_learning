{
 "cells": [
  {
   "cell_type": "markdown",
   "id": "24427286-ed49-487c-a71b-6141d6af15c1",
   "metadata": {},
   "source": [
    "# Autofocus\n",
    "Autofocus is a set of algorithms which try to focus the image by correccting phase errors which are present in the data.\n",
    "\n",
    "# Future goals\n",
    "I don't know anything about autofocus really other than it tries to enforce sparsity of data.  I would love for somebody to write this notebook "
   ]
  }
 ],
 "metadata": {
  "kernelspec": {
   "display_name": "Python 3 (ipykernel)",
   "language": "python",
   "name": "python3"
  },
  "language_info": {
   "codemirror_mode": {
    "name": "ipython",
    "version": 3
   },
   "file_extension": ".py",
   "mimetype": "text/x-python",
   "name": "python",
   "nbconvert_exporter": "python",
   "pygments_lexer": "ipython3",
   "version": "3.12.8"
  }
 },
 "nbformat": 4,
 "nbformat_minor": 5
}
