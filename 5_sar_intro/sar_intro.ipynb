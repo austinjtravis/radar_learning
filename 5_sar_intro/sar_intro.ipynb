{
 "cells": [
  {
   "cell_type": "markdown",
   "metadata": {},
   "source": [
    "# Introduction to SAR"
   ]
  },
  {
   "cell_type": "markdown",
   "metadata": {},
   "source": [
    "## High level overview\n",
    "* Moving platform\n",
    "* spotlight vs stripmap vs scan"
   ]
  },
  {
   "cell_type": "markdown",
   "metadata": {},
   "source": [
    "# Geometry\n",
    "* coordinate conversions (projection)\n",
    "* Slant plane vs ground plane\n",
    "* Common angles/terms\n",
    "* Range sphere/Doppler cone?\n",
    "    - Ambiguities?"
   ]
  },
  {
   "cell_type": "markdown",
   "metadata": {},
   "source": [
    "## Coordinate conversion\n",
    "some stuff like\n",
    "* What's a vector\n",
    "* Rotation matrix\n",
    "* Affine transormation\n",
    "\n",
    "$$p_{B} = \\mathbf{R}_{A2B}^{T}(\\mathbf{p}_A - \\mathbf{o}_A)"
   ]
  },
  {
   "cell_type": "markdown",
   "metadata": {},
   "source": [
    "## Slant plane\n",
    "\n",
    "$$\\textbf{left}_{coa} = \\mathbf{u}_{p_{coa}} \\times \\mathbf{u}_{v_{coa}}$$\n",
    "\n",
    "$$\n",
    "\\text{look} = \\begin{cases}\n",
    "1 & \\textbf{left}_{coa} \\cdot \\mathbf{u}_{los},\\\\\n",
    "0  & 0 \\text{ else}\n",
    "\\end{cases}\n",
    "$$  \n",
    "\n",
    "$$\\mathbf{sp}_z = \\text{look}\\cdot (\\mathbf{u}_{v_{coa}} \\times \\mathbf{u}_{los})$$\n",
    "$$\\mathbf{sp}_x = -\\mathbf{u}_{los}$$\n",
    "$$\\mathbf{sp}_y = \\mathbf{sp}_z \\times \\mathbf{sp}_x$$\n",
    "$$\\mathbf{R}_{sp2ecef} = [\\mathbf{sp}_x, \\mathbf{sp}_y, \\mathbf{sp}_z]$$\n"
   ]
  },
  {
   "cell_type": "markdown",
   "metadata": {},
   "source": [
    "## Ground plane\n",
    "$$\n",
    "\\begin{equation}\n",
    "\\mathbf{gp}_z = \\begin{bmatrix}\n",
    "    \\cos(\\text{scp}_{\\text{lon}})\\cos(\\text{scp}_{\\text{lat}}) \\\\\n",
    "    \\sin(\\text{scp}_{\\text{lon}})\\cos(\\text{scp}_{\\text{lat}}) \\\\\n",
    "    \\sin(\\text{scp}_{\\text{lat}})\n",
    " \\end{bmatrix}\n",
    "\\end{equation}\n",
    "$$\n",
    "$$p_{coa,gp_z} = (\\mathbf{p}_{coa} - \\mathbf{p}_{scp})\\cdot \\mathbf{gp}_z$$\n",
    "AETP = ARP earth tangent plane nadir\n",
    "$$\\mathbf{p}_{AETP} = \\mathbf{p}_{coa} - p_{coa,gp_z} \\mathbf{gp}_z$$\n",
    "$$R_{ground} = |\\mathbf{p}_{AETP} - \\mathbf{p}_{scp}|$$\n",
    "$$\\mathbf{gp}_x = \\frac{1}{R_{ground}}(\\mathbf{p}_{AETP} - \\mathbf{p}_{scp})$$\n",
    "$$\\mathbf{gp}_y = \\mathbf{gp}_z \\times \\mathbf{gp}_x$$\n",
    "\n",
    "$$\\mathbf{R}_{gp2ecef} = [\\mathbf{gp}_x, \\mathbf{gp}_y, \\mathbf{gp}_z]$$\n"
   ]
  },
  {
   "cell_type": "markdown",
   "metadata": {},
   "source": [
    "## Ground to slant/slant to ground conversion\n",
    "More complicated! We'll examine this problem more when we talk about converting a slant plane image to a ground plane image (sicd image to detected image chain)"
   ]
  },
  {
   "cell_type": "markdown",
   "metadata": {},
   "source": [
    "# Aperture synthesis\n",
    "* range resolution and how we use aperture synthesis to get fine azimuth resolution"
   ]
  }
 ],
 "metadata": {
  "kernelspec": {
   "display_name": ".venv",
   "language": "python",
   "name": "python3"
  },
  "language_info": {
   "codemirror_mode": {
    "name": "ipython",
    "version": 3
   },
   "file_extension": ".py",
   "mimetype": "text/x-python",
   "name": "python",
   "nbconvert_exporter": "python",
   "pygments_lexer": "ipython3",
   "version": "3.11.2"
  }
 },
 "nbformat": 4,
 "nbformat_minor": 4
}
