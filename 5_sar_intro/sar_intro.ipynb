{
 "cells": [
  {
   "cell_type": "markdown",
   "metadata": {},
   "source": [
    "# Introduction to SAR"
   ]
  },
  {
   "cell_type": "markdown",
   "metadata": {},
   "source": [
    "## High level overview\n",
    "Synthetic aperature radar (SAR) is a form of pulsed doppler radar where a large aperture is synthesized because the equivalent physical aperture is not physically realizable.  SAR has three main collection modes:\n",
    "1. Spotlight (Antenna is trained on a single point during the collection)\n",
    "    - This is sometimes referred to as frame\n",
    "2. Stripmap (Antenna is trained on a fixed line during the collection and the antenna is fixed)\n",
    "3. Scan (Antenna is trained on a fixed line during the collection and the antenna is changing where its pointing)\n",
    "    - Stripmap is a special case of scan mode when the antenna is not changing pointing direction during the collection\n",
    "\n",
    "![sar_modes](./images/sar_modes.png)  \n",
    "\n",
    "Each mode is used for different purposes.  Spotlight mode is usually used to collect smaller area higher resolution images whereas scan/stripmap are used to collect larger areas."
   ]
  },
  {
   "cell_type": "markdown",
   "metadata": {},
   "source": [
    "# Geometry\n",
    "SAR is very geometry heavy!  Before we talk about SAR it's good to provide some general knowledge on geometry/coordinates."
   ]
  },
  {
   "cell_type": "markdown",
   "metadata": {},
   "source": [
    "## Coordinate conversion\n",
    "\n",
    "### Vectors\n",
    "To represent coordinates we use vectors: https://www.youtube.com/watch?v=fNk_zzaMoSs.  Vectors are mathematical objects which describe direction and magnitude.  An example of a vector in $\\mathbb{R}^2$ is $v = [1, 0]$\n",
    "\n",
    "### Coordinate system\n",
    "We define a coordinate system by two properties:\n",
    "1. basis: https://en.wikipedia.org/wiki/Basis_(linear_algebra)\n",
    "2. vector origin\n",
    "For a refresher on this see: https://www.youtube.com/watch?v=k7RM-ot2NWY\n",
    "\n",
    "### Changing coordinate systems\n",
    "The act of converting a vector defined in one coordinate system to another is known as a change of basis.  For more details see (https://www.youtube.com/watch?v=kYB8IZa5AuE)\n"
   ]
  },
  {
   "cell_type": "markdown",
   "metadata": {},
   "source": [
    "## Common terms\n",
    "The following are some common terms related to SAR that will come up frequently:\n",
    "* Aperture reference point (ARP): Position of the radar (antenna)\n",
    "  - This is sometimes referred to as aperture phase center (APC)\n",
    "  - Often represented as a polynomial\n",
    "* Scene center point (SCP): Position of the center of the image\n",
    "  - Some people will refer to this as the stabilization reference point (SRP)\n",
    "* Ground reference point (GRP): position of antenna aimpoint\n",
    "  - Often represented as a polynomial\n",
    "* Center of aperture (COA): Position of the sensr at the center of the collection\n",
    "* Dwell time: Total time spent collecting data\n",
    "* Dwell angle: Angle between the line of sight vector at the beginning of the collection and the line of sight vector at the end of the collection\n",
    "* Line of sight (LOS): pointing vector from the ARP to the SCP\n",
    "* Grazing angle: angle between the LOS and the ground plane\n",
    "* Slant range: Distance from the ARP to the SCP\n",
    "  - magnitude of the line of sight \n",
    "* Range swath: Distance of the min/max range collected\n",
    "  - Sometimes represented as time or distance\n",
    "* Tilt angle: Angle between the ground plane z basis vector and the slant plane z basis vector\n",
    "* Squint angle: Angle between the line of sight vector and the ARP velocity vector\n",
    "\n",
    "![sar_geom](./images/sar_geom.png)  "
   ]
  },
  {
   "cell_type": "markdown",
   "metadata": {},
   "source": [
    "## Earth-centered, Earth-fixed (ECEF)\n",
    "The ECEF coordinate system is most commonly used coordinate system when dealing with coordinates in SAR: https://en.wikipedia.org/wiki/Earth-centered,_Earth-fixed_coordinate_system\n",
    "\n",
    "Often times we will convert from local coordinate frames to our problem (slant plane, ground plane, east north up (ENU), ...) to a global coordinate frame like ECEF better represent coordites for modeling.  \n",
    "To convert from a local coordinate frame to a ECEF compute the following:\n",
    "$$\\mathbf{p}_{\\text{local}} = \\mathbf{R}^{T}_{\\text{local}\\rightarrow\\text{ecef}}(\\mathbf{p}_{ecef} - \\mathbf{p}_{\\text{origin}})$$\n",
    "where:\n",
    "* $\\mathbf{R}_{\\text{local}\\rightarrow\\text{ecef}}$ is an orthonormal rotation matrix which defines the coordinate system (its basis)\n",
    "* $\\mathbf{p}_{ecef}$ is the point in ECEF to convert to the local coordinate system\n",
    "* $\\mathbf{p}_{\\text{origin}}$ is the origin of the local ooridnate system in ECEF\n",
    "\n",
    "To convert from ECEF to a local frame compute the following:\n",
    "$$\\mathbf{p}_{\\text{ecef}} = \\mathbf{R}_{\\text{local}\\rightarrow\\text{ecef}}\\mathbf{p}_{local} + \\mathbf{p}_{\\text{origin}}$$\n"
   ]
  },
  {
   "cell_type": "markdown",
   "metadata": {},
   "source": [
    "## Slant plane\n",
    "The slant plane is the imaging plane directly along the line of sight of the radar to the scene:  \n",
    "\n",
    "![sar_modes](./images/sar_planes.svg)  \n",
    "\n",
    "The definition of the slant plane coordinate system is:\n",
    "$$\n",
    "\\text{look} = \\begin{cases}\n",
    "1 & (\\mathbf{u}_{p_{coa}} \\times \\mathbf{u}_{v_{coa}}) \\cdot \\mathbf{u}_{los},\\\\\n",
    "0  & 0 \\text{ else}\n",
    "\\end{cases}\n",
    "$$  \n",
    "\n",
    "$$\\mathbf{z}_{sp} = \\text{look}\\cdot (\\mathbf{u}_{v_{coa}} \\times \\mathbf{u}_{los})$$\n",
    "$$\\mathbf{x}_{sp} = -\\mathbf{u}_{los}$$\n",
    "$$\\mathbf{y}_{sp} = \\mathbf{z}_{sp} \\times \\mathbf{x}_{sp}$$\n",
    "$$\\mathbf{R}_{\\text{sp}\\rightarrow\\text{ecef}} = [\\mathbf{x}_{sp}, \\mathbf{y}_{sp}, \\mathbf{z}_{sp}]$$\n",
    "To convert an ecef position to slant plane position compute:\n",
    "$$\\mathbf{p}_{\\text{sp}} = \\mathbf{R}_{\\text{sp}\\rightarrow\\text{ecef}}(\\mathbf{p}_{\\text{ecef}} - \\mathbf{p}_{\\text{scp}})$$\n"
   ]
  },
  {
   "cell_type": "markdown",
   "metadata": {},
   "source": [
    "## Ground plane\n",
    "The ground plane is the plane that is tangent to the earth surface at the scene center point which can be seen in the picture in the slant plane section.\n",
    "$$\\mathbf{z}_{gp} = \\frac{\\mathbf{p}_{\\text{scp}}}{|\\mathbf{p}_{\\text{scp}}|}$$\n",
    "$$\\mathbf{y}_{gp} = \\frac{\\mathbf{z}_{gp}\\times(\\mathbf{p}_{\\text{arp}} - \\mathbf{p}_{\\text{scp}})}{|\\mathbf{z}_{gp}\\times(\\mathbf{p}_{\\text{arp}} - \\mathbf{p}_{\\text{scp}})|}$$\n",
    "$$\\mathbf{x}_{gp} = \\mathbf{y}_{gp} \\times \\mathbf{z}_{gp}$$\n",
    "$$\\mathbf{R}_{\\text{gp}\\rightarrow\\text{ecef}} = [\\mathbf{gp}_x, \\mathbf{gp}_y, \\mathbf{gp}_z]$$\n",
    "\n",
    "To convert an ecef position to a ground plane position compute:\n",
    "$$\\mathbf{p}_{\\text{gp}} = \\mathbf{R}_{\\text{gp}\\rightarrow\\text{ecef}}(\\mathbf{p}_{\\text{ecef}} - \\mathbf{p}_{\\text{scp}})$$\n",
    "\n"
   ]
  },
  {
   "cell_type": "markdown",
   "metadata": {},
   "source": [
    "## Ground to slant and slant to ground conversion\n",
    "More complicated! We'll examine this problem more when we talk about converting a slant plane image to a ground plane image (sicd image to detected image chain)"
   ]
  },
  {
   "cell_type": "markdown",
   "metadata": {},
   "source": [
    "# Aperture synthesis\n",
    "The problem with real aperture radar is that to achieve fine azimuth beamwidth (azimuth resolution) we require a phsyically large antenna.  The beamwidth of an antenna is given by:\n",
    "$$\\beta = \\frac{\\lambda}{D}$$\n",
    "Where $\\lambda$ is the wavelength and $D$ is the physical aperture size.  The resolution (width of the antenna on the ground) is given by:\n",
    "$$\\rho_{a} = R\\beta = \\frac{R\\lambda}{D}$$\n",
    "where $R$ is the slant range from the sensor to the ground.  Suppose we wanted a resolution of $\\rho_a = 1 \\text{ meters}$ with a wavelength of $\\lambda = 0.03 \\text{ meters}$ at a slant range of $R = 50 \\text { km}$.  Solving for $D$ and plugging these numbers in yields:\n",
    "$$D = \\frac{\\lambda R}{\\rho_a} = \\frac{0.03 \\cdot 50\\cdot 10^{3}}{1} = 1500 \\text{ meters}$$  \n",
    "\n",
    "This antenna size is physically unrealizable to fabricate and mount on a flying platform.  The solution is to use a wide beamwidth antenna and synthesize an antenna array to achieve a much narrower beamwidth.  "
   ]
  },
  {
   "cell_type": "markdown",
   "metadata": {},
   "source": [
    "## Ambiguities\n",
    "Ambiguities in SAR are points on the earth that have the same signal characteristics as a point in the illuminated scene.  This means that the signal characteristics are indistinguishable which means the point outside the scene appears to be identical to the point inside the scene.  This is undesirable because we want to be able to claim that each point in our image is unique.  \n",
    "\n",
    "Ambiguities have two forms in SAR:\n",
    "* Range ambiguitiies\n",
    "* Doppler ambiguities\n",
    "\n",
    "Ambiguites will look like replicas of objects at different ranges/azimuth positions, but that object is not real; it is merely a copy.\n",
    "\n",
    "### Range Ambiguities\n",
    "Range ambiguities are purely a factor of geometry.  The ambiguious range relative to the unambiguous range to a point inside the scene $R_0$ is defined as:\n",
    "$$R_{k} = R_0 + k \\frac{c}{2 PRF}, \\quad k \\in \\cdots -2, -1, 0, 1, 2, \\cdots$$  \n",
    "\n",
    "This means that for a point a distance of 1000m away from the sensor with a PRF of 1000 Hz, that:\n",
    "|$R_k$| distance (m)|\n",
    "| --- | ----------- |\n",
    "| $R_{-2}$ | -299 km |\n",
    "| $R_{-1}$ | -149 km |\n",
    "| $R_{0}$ | 0 km (this is the un-ambiguous distance to the point) |\n",
    "| $R_{1}$ | 151 km |\n",
    "| $R_{2}$ | 301 km |\n",
    "\n",
    "Range ambiguities are driven by the collection geometry.  They occur when the pulse continues to travel hits a point outside the receive window, then shows up in the return of a pulse later in the collection.  Since the pulse has to travel farther and received power falls off with $\\frac{1}{R}$, range ambiguties power is often below the noise.  It is the tasking software's goal to figure out range ambiguity power for the collection and to task the system to try to minimize the power of the ambiguities. \n",
    "\n",
    "\n",
    "### Doppler ambiguities\n",
    "Along each iso-range line doppler ambiguities exist at integer multiples of the doppler bandwidth (PRF) of the scene:\n",
    "$$f_{m} = f_0 + m B, \\quad m \\in \\cdots -2, -1, 0, 1, 2, \\cdots $$\n",
    "Since doppler frequency is only along the projection to the line of sight vector you will often see this equation re-written as:\n",
    "$$2\\frac{\\mathbf{u}_{los} \\cdot \\mathbf{v}_{ARP}}{c} = 2\\frac{\\mathbf{u}_{los} \\cdot \\mathbf{v}_{ARP}}{c} + m PRF \\quad m \\in \\cdots -2, -1, 0, 1, 2, \\cdots $$  \n",
    "\n",
    "Since the scene extent is controlled by how fast we sample the scene in Doppler (azimuth), doppler ambiguities are the same concept of aliasing we described in the sampling problem in the math/dsp intro.  Doppler ambiguities are usually attenuated by the antenna beam however strong reflecting objects in the sidelobes or moving targets can alias back into the scene and show up as ambiguities.  These are sometimes referred to as \"fuzz balls\" since when they alias in they are so out of focus relative to the motion compensation point\n",
    "\n",
    "### Visualization\n",
    "\n",
    "![ambiguities](./images/ambiguities.PNG)\n",
    "\n",
    "### Tradeoffs\n",
    "When designing a system the following relationship between range/doppler ambiguities should be noted:\n",
    "|PRF | Range Ambiguities| Doppler Ambiguities|\n",
    "| -- | ---------------- | ------------------ |\n",
    "| increases | move in | move out | \n",
    "| decreases | move out | move in |\n",
    "\n",
    "Techniques such as multiple azimuth beam (MAB) sample the scene sub-nyquist (very low PRF) so that the range ambiguities are so far away that the range swath can be massive, then use the multiple antenna beams to cancel out the increased doppler ambiguities  "
   ]
  },
  {
   "cell_type": "markdown",
   "metadata": {},
   "source": [
    "## File formats associated with SAR products\n",
    "There are three main file formats users will interact with when working with SAR data.  These file formats were all developed by NGA to standardize SAR products in the community:\n",
    "* Compensated phase history data (CPHD) https://nsgreg.nga.mil/doc/view?i=4638\n",
    "    - NOT AN IMAGE\n",
    "    - SAR phase history data that has been motion compensated and matched filter\n",
    "    - Sensor specific hardware corrections have also been applied \n",
    "* Sensor independent complex data (SICD) https://nsgreg.nga.mil/doc/view?i=4900\n",
    "    - Image in the slant plane\n",
    "    - pixels are complex float\n",
    "    - mainly used for exploitation purposes (automatic target recognition, and paired product generation) since phase information is present\n",
    "* Sensor independent derived data (SIDD) https://nsgreg.nga.mil/doc/view?i=5009\n",
    "    - Image in the ground plane\n",
    "    - Pixels are 8 bit unsigned integers (values range from 0 - 255)\n",
    "    - This is what most SAR image consumers view\n",
    "\n",
    "Coming soon: Compensated receive signal data (CRSD)!  CRSD has not been matched filtered and mocomp'd only for the receive portion."
   ]
  }
 ],
 "metadata": {
  "kernelspec": {
   "display_name": "Python 3 (ipykernel)",
   "language": "python",
   "name": "python3"
  },
  "language_info": {
   "codemirror_mode": {
    "name": "ipython",
    "version": 3
   },
   "file_extension": ".py",
   "mimetype": "text/x-python",
   "name": "python",
   "nbconvert_exporter": "python",
   "pygments_lexer": "ipython3",
   "version": "3.12.8"
  }
 },
 "nbformat": 4,
 "nbformat_minor": 4
}
