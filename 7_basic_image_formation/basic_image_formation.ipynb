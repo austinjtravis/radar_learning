{
 "cells": [
  {
   "cell_type": "markdown",
   "metadata": {},
   "source": [
    "# Basic image formation"
   ]
  },
  {
   "cell_type": "markdown",
   "metadata": {},
   "source": [
    "## Range Doppler ambiguities\n",
    "* Explain and copy figure from docx"
   ]
  },
  {
   "cell_type": "markdown",
   "metadata": {},
   "source": [
    "## Phase history simulation\n",
    "The goal of this is to simulate what the received demodulated signal for a SAR system is. Recall from the previous notebook that the zero IF signal we sample is given by:\n",
    "$$x_{IF}(t, \\tau) = Ae^{\\frac{-4j\\pi R(\\tau)}{\\lambda}}e^{j\\pi \\gamma (t-\\frac{2R(\\tau)}{c})^2}$$\n",
    "To take digitization into consideration then we will convert continuous time into discrete time by sampling the signal which means we can re-write this as:\n",
    "\n",
    "$$x_{IF}(n, k) = Ae^{\\frac{-4j\\pi R[k]}{\\lambda}}e^{j\\pi \\gamma (n-f_s\\frac{2R[k]}{c})^2}$$\n"
   ]
  },
  {
   "cell_type": "code",
   "execution_count": 10,
   "metadata": {},
   "outputs": [],
   "source": [
    "import numpy as np\n",
    "# Geometry \n",
    "arp_poly=np.array([\n",
    "    [-1.49673321e+06,  3.38008795e+00,  3.41940381e-01, -4.19252322e-02,  3.34858667e-03, -1.93457182e-04, 4.91930368e-06],\n",
    "    [-5.01247649e+06,  4.82305159e+01, -1.52389565e-01, 2.80952869e-02, -2.50772202e-03,  1.02977378e-04, -1.57182110e-06],\n",
    "    [3.64293277e+06,  6.79510462e+01,  3.42472609e-02, -1.22799448e-02,  1.25281012e-03, -5.58969344e-05, 8.63636351e-07]\n",
    "])\n",
    "p_scp=np.array([-1493006.783, -5010561.349,  3643742.621])\n",
    "t_start=0.0\n",
    "t_end=14.50183138839202"
   ]
  },
  {
   "cell_type": "code",
   "execution_count": 7,
   "metadata": {},
   "outputs": [
    {
     "name": "stdout",
     "output_type": "stream",
     "text": [
      "TimelineType(**{\n",
      " \"CollectStart\": \"2016-09-21T16:41:07.971000Z\",\n",
      " \"CollectDuration\": 14.50183138839202\n",
      "})\n"
     ]
    }
   ],
   "source": [
    "from sarpy.io.complex.sicd import SICDReader\n",
    "meta = SICDReader('/mnt/c/Users/Austin/Documents/GitHub/radar_learning/sicd_example_1_PFA_RE32F_IM32F_HH.nitf').sicd_meta\n",
    "print(meta.Timeline)\n",
    "t_start=0.0\n",
    "t_end=14.50183138839202"
   ]
  },
  {
   "cell_type": "code",
   "execution_count": null,
   "metadata": {},
   "outputs": [],
   "source": [
    "import numpy as np\n",
    "num_samples = 1\n",
    "num_pulses = 1\n",
    "targets = [p_scp]\n",
    "phase_history = np.zeros((num_pulses, num_samples), dtype=np.complex128)\n",
    "\n",
    "for tgt in targets:\n",
    "    for i_pulse in range(num_pulses):\n",
    "        # Evaluate ARP/GRP poly\n",
    "\n",
    "        # compute distance\n",
    "\n",
    "        # plug into equation\n",
    "        pass\n"
   ]
  },
  {
   "cell_type": "markdown",
   "metadata": {},
   "source": [
    "## Step one: Range matched filter\n",
    "We covered matched filtering already.  Here we construct the matched filter based off of the waveform function $h(t)$"
   ]
  },
  {
   "cell_type": "markdown",
   "metadata": {},
   "source": [
    "## Step two: Azimuth Matched filter\n",
    "* Show distance over time before mocomp and after mocomp"
   ]
  },
  {
   "cell_type": "code",
   "execution_count": 11,
   "metadata": {},
   "outputs": [],
   "source": [
    "import numpy.polynomial.polynomial as npp\n",
    "times = np.linspace(t_start, t_end, 256) \n",
    "arp_pos = npp.polyval(times, arp_poly.T).T"
   ]
  },
  {
   "cell_type": "markdown",
   "metadata": {},
   "source": [
    "## Step three: form image\n",
    "* Take 2D FFT of data to show image\n",
    "* Explain why it doesnt look good\n",
    "* Take FFT of some umbra CPHD to show what it looks like pre-polar formatting"
   ]
  },
  {
   "cell_type": "markdown",
   "metadata": {},
   "source": []
  }
 ],
 "metadata": {
  "kernelspec": {
   "display_name": ".venv",
   "language": "python",
   "name": "python3"
  },
  "language_info": {
   "codemirror_mode": {
    "name": "ipython",
    "version": 3
   },
   "file_extension": ".py",
   "mimetype": "text/x-python",
   "name": "python",
   "nbconvert_exporter": "python",
   "pygments_lexer": "ipython3",
   "version": "3.11.2"
  }
 },
 "nbformat": 4,
 "nbformat_minor": 2
}
