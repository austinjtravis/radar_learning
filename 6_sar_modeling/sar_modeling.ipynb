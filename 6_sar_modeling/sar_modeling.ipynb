{
 "cells": [
  {
   "cell_type": "markdown",
   "metadata": {},
   "source": [
    "# Synthetic Aperture Radar (SAR) formulation"
   ]
  },
  {
   "cell_type": "markdown",
   "metadata": {},
   "source": [
    "In SAR we transmit a waveform $h(t)$ at a position $\\bm{p}_{tx}$ with our antenna pointed at a position on the ground $\\bm{p}_{aim}$.  We trasnmit the waveform at a time $t_{tx}$ at the aimpoint and receive the reflected wave at a time $\\tau_{rx}$ later.  Mathematically for a single pulse this can be represented as:\n",
    "$$x(t) =  \\sqrt{\\frac{P_{t} G^2 \\sigma \\lambda^2}{(4\\pi)^3 R_{tx}^2R_{rx}^2}}h(t-\\tau_{rx})$$\n",
    "where $h(t)$ is the transmitted waveform.  Recall that to achieve fine range resolution we used a chirp waveform which means we can rewrite this as:\n",
    "$$h(t) = e^{2\\pi f_c t + \\pi \\gamma t^2}$$\n",
    "$$x(t) = \\sqrt{\\frac{P_{t} G_{t} G_{r} \\sigma \\lambda^2}{(4\\pi)^3 R_{tx}^2R_{rx}^2}}e^{2\\pi f_c (t-\\tau_{rx}) + \\pi \\gamma (t-\\tau_{rx})^2}$$  \n",
    "Let's simplify this expression a bit.  Let's set the gain scaling terms to a constant $A$:\n",
    "$$x(t) = Ae^{2\\pi f_c (t-\\tau_{rx}) + \\pi \\gamma (t-\\tau_{rx})^2}$$\n",
    "$$A=\\sqrt{\\frac{P_{t} G_{t} G_{r} \\sigma \\lambda^2}{(4\\pi)^3 R_{tx}^2R_{rx}^2}}$$\n",
    "Recall that our time delay to a point is computed as follows:\n",
    "$$\\tau_{rx} = \\frac{|\\bm{p}_{tx} - \\bm{p}_{aim}|}{c} + \\frac{|\\bm{p}_{rx} - \\bm{p}_{aim}|}{c}$$  \n",
    "\n",
    "Using the monostatic approximation (transmitter and receiver) are the same we assume that $\\bm{p}_{tx} = \\bm{p}_{rx}$ and we can rewrite this as follows:\n",
    "$$\\tau_{rx} = 2\\frac{|\\bm{p}_{tx} - \\bm{p}_{aim}|}{c}$$\n",
    "The last simplifaction is to define $R = |\\bm{p}_{tx} - \\bm{p}_{aim}|$ and write the time delay as:\n",
    "$$\\tau_{rx} = \\frac{2R}{c}$$  \n",
    "\n",
    "We can now write the received waveform for a single pulse as:\n",
    "$$x(t) = Ae^{2\\pi f_c (t-\\frac{2R}{c}) + \\pi \\gamma (t-\\frac{2R}{c})^2}$$  \n",
    "Rewriting this we can observe the following\n",
    "To demodualte the signal (downconvert) we remove the carrier term from the data to bring it to a lower (intermediate frequency).  \n",
    "\n",
    "$$x_{IF}(t) = \\underbrace{Ae^{2\\pi f_c (t-\\frac{2R}{c}) + \\pi \\gamma (t-\\frac{2R}{c})^2}}_{\\text{received signal}}\\underbrace{e^{2\\pi f_{lo}t}}_{\\text{local oscillator}}$$\n",
    "multiplying this out yields\n",
    "\n",
    "$$x_{IF}(t) = Ae^{2\\pi (f_c - f_{lo})t}  e^{-2f_c\\pi \\frac{2R}{c}}e^{\\pi \\gamma (t-\\frac{2R}{c})^2}$$\n",
    "\n",
    "\n",
    "For simplicity, here we will completely remove the carrier ($f_{lo} = f_c$) to arrive at the zero IF solution which means we can re-write this as:\n",
    "\n",
    "$$x_{IF}(t) = Ae^{\\frac{-4\\pi f_cR}{c}}e^{\\pi \\gamma (t-\\frac{2R}{c})^2}$$\n",
    "\n",
    "recall that $\\lambda = \\frac{c}{f}$ which means we can re-write this as\n",
    "\n",
    "$$x_{IF}(t) = Ae^{\\frac{-4\\pi R}{\\lambda}}e^{\\pi \\gamma (t-\\frac{2R}{c})^2}$$\n",
    "\n"
   ]
  },
  {
   "cell_type": "markdown",
   "metadata": {},
   "source": [
    "# Notes\n",
    "* Fast time vs slow time\n",
    "* Add rect around equations"
   ]
  }
 ],
 "metadata": {
  "language_info": {
   "name": "python"
  }
 },
 "nbformat": 4,
 "nbformat_minor": 2
}
