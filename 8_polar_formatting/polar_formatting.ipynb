{
 "cells": [
  {
   "cell_type": "markdown",
   "metadata": {},
   "source": [
    "# Polar formatting\n",
    "NOTE: most content was taken from https://www.osti.gov/servlets/purl/1044949.  This report goes into much more depth on this topic and is a very intuitive and easy read.  I mainly re-wrote this to get a better understanding for myself"
   ]
  },
  {
   "cell_type": "markdown",
   "metadata": {},
   "source": [
    "## Wavenumbers\n",
    "Recall that early on we described a travelling wave moving in the $+x$ direction as:\n",
    "$$h(t, x) = A\\cos{(\\omega t - kx)}$$ \n",
    "Where:\n",
    "* $t$: time in seconds\n",
    "* $x$ spatial distance in meters\n",
    "* $\\omega$: temporal frequency (temporal phase rate) in Hz \n",
    "* $k$: wavenumber (spatial phase rate) in $m^{-1}$\n",
    "    - Often in SAR referred to as the spatial frequency\n",
    "\n",
    "Looking at the phase we observe:\n",
    "$$\\omega t - kx = \\omega(t - \\frac{k}{\\omega}x) = \\omega(t - \\frac{1}{c}x) = (\\omega t - \\frac{\\omega}{c}x)$$  \n",
    "\n",
    "Which means we can see that:\n",
    "$$k = \\frac{\\omega}{c} = \\frac{2\\pi f}{c} = \\frac{2\\pi}{\\lambda}$$\n",
    "and subsequently \n",
    "$$k = \\frac{\\omega}{c} \\implies c = \\frac{\\omega}{k}$$\n",
    "\n",
    "The key thing to note here is that we call this wavenumber $k$ the \"spatial frequency\" of the wave.  This is important to note because synthetic aperture radar (SAR) imaging is more about processing wavenumber information than about frequency information.  We use frequecny information because frequecny and wavenumbers are related by the velocity of propogation (speed of light).  \n",
    "\n",
    "In reality we have waves which propogate in three dimensional space which means we can re-write our equation of the wave as:\n",
    "$$w(t, x, y, z) = A\\cos{(\\omega t - k_x x - k_y y - k_z z)}$$\n",
    "which we can re-write in vectorized notation as\n",
    "$$w(t, \\mathbf{r}) = A\\cos{(\\omega t - \\mathbf{k}\\cdot \\mathbf{r})}$$\n",
    "\n",
    "where:\n",
    "* $\\mathbf{r}$: is a position vector in 3 dimensional space\n",
    "* $\\mathbf{k}$: is a wavenumber vector where the magnitude describes the spatial frequency and the direciton describes the wavefront propogation direction\n",
    "we can re-write $\\mathbf{k}$ as a magnitude and direction as:\n",
    "$$\\mathbf{k} = k\\hat{\\mathbf{n}}$$\n",
    "where:\n",
    "* $k$: magnitude of the wavenumber (spatial frequency)\n",
    "* $\\hat{\\mathbf{n}}$: unit vector pointing in the direction the wave is travelling\n",
    "\n",
    "We can now re-write the equation for a wave as:\n",
    "$$w(t, \\mathbf{r}) = A\\cos{(\\omega t - k\\hat{\\mathbf{n}}\\cdot \\mathbf{r})} = A\\cos{(\\omega t - k(\\hat{\\mathbf{n}}\\cdot \\mathbf{r}))}$$  \n",
    "\n",
    "For now let's consider a two dimensional wave travelling in two dimensional space following the figure below:  \n",
    "\n",
    "![wavefront](./images/wavefront.PNG)  \n",
    "\n",
    "From this we can observe the following:\n",
    "* The lines represent constant phase contours at a snapshot in time.\n",
    "* The waves are travelling perpendicular to these constant phase contours\n",
    "\n",
    "From this we can also see that:\n",
    "$$k\\hat{\\mathbf{n}} \\cdot \\mathbf{r} = (k\\cos{\\theta})x + (k\\sin{\\theta})y$$\n",
    "\n",
    "This will be an important result later.  \n",
    "\n",
    "### Position estimate from wavenumbers\n",
    "Lastly for wavenumbers let's define the phase of a one dimensional travelling wave as\n",
    "$$\\Theta = \\omega t - kx$$  \n",
    "\n",
    "Assume that we don't know the temporal frequency $\\omega$ and that $k$ and $x$ are fixed over time, then we can estimate $\\omega$ by\n",
    "$$\\omega = \\frac{d\\Theta}{dt}$$\n",
    "This is clear by computing the derivative:\n",
    "$$\\frac{d\\Theta}{dt} = \\frac{d}{dt}(\\omega t - kx) = \\omega$$\n",
    "\n",
    "We can estimate temporal frequency by observing how the phase changes over time.  The precision of the estimate (frequency resolution) depends on how long of an observation we have in time of $\\Theta$.  \n",
    "\n",
    "Similarly, if the phase is observed over a variety of frequencies then we cn estimate the time of an event in a similar manner.  Suppose that $t$ is unknown and that we observe the phase over a band of frequencies and that $k$ and $x$ are fixed.  Then we can form an estimate of $t$ by computing the derivative with respect to frequency:\n",
    "$$\\frac{d\\Theta}{d\\omega} = \\frac{d}{d\\omega}(\\omega t - kx) = t \\implies t = \\frac{d\\Theta}{d\\omega}$$\n",
    "\n",
    "Now suppose we wanted to estimate the wave's position $x$.  To do this we need to observe the phase over multiple wavenumbers and compute:\n",
    "$$\\frac{d\\Theta}{dk} = \\frac{d}{dk}(\\omega t - kx) = x \\implies x = \\frac{d\\Theta}{dk}$$   \n",
    "\n",
    "This is preciesely what SAR imaging does.  Now with SAR we work with multi-dimensional data since we are estimating a two dimensional image, so we will re-write the phase in two spatial dimensions as:\n",
    "$$\\Theta = \\omega t - (k_xx + k_yy)$$\n",
    "Again, to estimate position we need ot obsrve wavenumbers at a fixed time.  For a fixed time this means that $\\omega t$ will be constant; i.e) $\\omega t = \\phi$ which means we can re-write the phase as:\n",
    "$$\\Theta = \\phi - (k_xx + k_yy)$$\n",
    "Recall that in order to estimate $x$ we need to observe variation in $k_x$ over multiple wavenumbers and to estimate $y$ we need to observe $k_y$ over multiple wavenumbers i.e)\n",
    "$$\\frac{\\partial\\Theta}{\\partial k_x} = \\frac{\\partial}{\\partial k_x}(\\phi - (k_xx + k_yy)) = -x \\implies x = -\\frac{\\partial\\Theta}{\\partial k_x}$$\n",
    "$$\\frac{\\partial\\Theta}{\\partial k_y} = \\frac{\\partial}{\\partial k_y}(\\phi - (k_xx + k_yy)) = -x \\implies y = -\\frac{\\partial\\Theta}{\\partial k_y}$$\n",
    "We need to find a way to estimate phase variation over these two different wavenumbers.  For the two dimensional problem recall that we defined $k_x$ and $k_y$ as:\n",
    "$$k_x = k \\cos{\\theta}, \\quad k_y = k\\sin{\\theta}$$\n",
    "plugging those definitions we get:\n",
    "$$\\Theta = \\phi - k\\cos{(\\theta)}x - k\\sin{(\\theta)}y$$\n",
    "SAR allows us to independently vary both $k$ and $\\theta$.  Variation in $k$ comes from us transmitting over multiple frequencies through our signals bandwidth.  The distance from where we send our pulse and receive it over slow time is what varies the angle the wavefront his a scatterer.\n",
    "\n",
    "### Spatial fourier transform of a scene \n",
    "Consider a 2-dimensional physical scene with a brightness function that varies with position over the scene by $\\sigma(x,y)$.  If we take the fourier transform of this function with respect to spatial coordinates $x$ and $y$ then we end up with:\n",
    "$$S(k_x, k_y) = \\int_{-\\infty}^{\\infty}\\int_{-\\infty}^{\\infty}\\sigma(x, y)e^{-j(k_x x + k_y y)}dxdy$$  \n",
    "\n",
    "If we can gather enough information in the wavenumber domain, which we'll refer to as the  Fourier space of the scene, we should be able to estimate what the scene content function $\\sigma(x, y)$ is. How well we are able to estimate this will end corresponding to how many large our observation is in the fourier domain.  For SAR this means if we have more signal bandwidth then we will have a better estimate of the y dimension of the scene function and if we dwell on a point longer we will have a better estimate of its x coordinate.  \n",
    "\n",
    "## SAR as wavenumbers\n",
    "Recall that our signal model post motion compensation is given by:\n",
    "$$X_{IF}(n, m) = H(\\omega)e^{-j\\omega [n](n_{fast}[m] - n_{scp}[m])}e^{-j\\omega(\\tau[m] -  \\tau_{scp}[m])}$$\n",
    "$$x_{IF}(t, \\tau) = Ae^{\\frac{-4\\pi R(\\tau)}{\\lambda}}e^{\\pi \\gamma (t-\\frac{2R(\\tau)}{c})^2}$$\n",
    "$$x_{IF}(t, \\tau) = Ae^{j \\omega (\\tau - \\tau_{scp})}e^{\\pi \\gamma (t - \\tau - \\tau_{scp})^2}$$\n",
    "\n",
    "$$e^{j\\left( - 2\\pi f_c\\tau_{rx} - 2\\pi \\gamma t\\tau + \\pi \\gamma \\tau_{rx}^2 \\right)}$$\n",
    "$$e^{j\\left( - 2\\pi f_c(\\tau - \\tau_{scp}) - 2\\pi \\gamma t(\\tau - \\tau_{scp}) + \\pi \\gamma \\tau_{rx}^2 \\right)}$$\n",
    "$$e^{j\\left( - 2\\pi f_c(\\tau - \\tau_{scp}) - 2\\pi \\gamma t(\\tau - \\tau_{scp})\\right)}$$\n",
    "$$e^{j\\left( (\\tau - \\tau_{scp})(- 2\\pi f_c - 2\\pi \\gamma t)\\right)}$$\n",
    "let the distance to the mocomp point be $R_m$ then we can write the time delay as:\n",
    "$$e^{j\\left(\\frac{2R_m}{c}(- 2\\pi f_c - 2\\pi \\gamma t)\\right)}$$\n",
    "\n",
    "\n",
    "\n",
    "## blah\n",
    "* Describe formulation \n",
    "    - Start with 2D formulation from SANDIA and extend to 3D\n",
    "* Introduce different image formation algos\n",
    "* create polar formatter\n",
    "* apply to CPHD\n"
   ]
  },
  {
   "cell_type": "markdown",
   "metadata": {},
   "source": []
  },
  {
   "cell_type": "markdown",
   "metadata": {},
   "source": []
  },
  {
   "cell_type": "code",
   "execution_count": null,
   "metadata": {},
   "outputs": [],
   "source": [
    "import holoviews as hv\n",
    "import holoviews.operation.datashader as hd\n",
    "hv.extension('bokeh')"
   ]
  },
  {
   "cell_type": "code",
   "execution_count": null,
   "metadata": {},
   "outputs": [],
   "source": [
    "from sarpy.io.phase_history.cphd import CPHDReader\n",
    "reader = CPHDReader('/mnt/c/Users/Austin/Documents/GitHub/radar_learning/7_basic_image_formation/2024-01-12-04-09-18_UMBRA-05_CPHD.cphd')\n",
    "meta = reader.cphd_meta"
   ]
  },
  {
   "cell_type": "code",
   "execution_count": null,
   "metadata": {},
   "outputs": [],
   "source": [
    "num_pulses = meta.Data.Channels[0].NumVectors\n",
    "num_samples = meta.Data.Channels[0].NumSamples\n",
    "\n",
    "tx_pos = reader.read_pvp_variable('TxPos', index=0)\n",
    "rx_pos = reader.read_pvp_variable('RcvPos', index=0)\n",
    "srp_pos = reader.read_pvp_variable('SRPPos', index=0)"
   ]
  },
  {
   "cell_type": "code",
   "execution_count": null,
   "metadata": {},
   "outputs": [],
   "source": [
    "import numpy as np\n",
    "ref_pulse = num_pulses // 2\n",
    "coa_los = srp_pos[ref_pulse] - tx_pos[ref_pulse]\n",
    "u_coa_los = coa_los / np.linalg.norm(coa_los)\n",
    "# los = srp_pos[::50] - tx_pos[::50]\n",
    "los = srp_pos - tx_pos\n",
    "u_los = los / np.linalg.norm(coa_los, axis=-1)\n",
    "polar_angle = np.arccos(1 - np.einsum('k,jk -> j', u_coa_los, u_los))\n"
   ]
  },
  {
   "cell_type": "code",
   "execution_count": null,
   "metadata": {},
   "outputs": [],
   "source": [
    "rf_bw = meta.TxRcv.TxWFParameters[0].RFBandwidth\n",
    "fc = meta.TxRcv.TxWFParameters[0].FreqCenter\n",
    "freq_vec = np.linspace(fc - rf_bw/2, fc + rf_bw/2, num_samples)"
   ]
  },
  {
   "cell_type": "code",
   "execution_count": null,
   "metadata": {},
   "outputs": [],
   "source": [
    "# f, theta = np.meshgrid(freq_vec, polar_angle, indexing='ij')"
   ]
  },
  {
   "cell_type": "code",
   "execution_count": null,
   "metadata": {},
   "outputs": [],
   "source": [
    "# dims are (num_pulses, num_samples)\n",
    "# print(f.shape)\n",
    "# print(theta.shape)\n",
    "print(num_pulses)\n",
    "print(num_samples)\n",
    "from scipy.constants import c as speed_of_light\n"
   ]
  },
  {
   "cell_type": "code",
   "execution_count": null,
   "metadata": {},
   "outputs": [],
   "source": [
    "wavelen = speed_of_light / f \n",
    "k_x = 2 * np.pi / wavelen * np.cos(theta)\n",
    "k_y = 2 * np.pi / wavelen * np.sin(theta)"
   ]
  },
  {
   "cell_type": "code",
   "execution_count": null,
   "metadata": {},
   "outputs": [],
   "source": [
    "points = np.stack([k_x.flatten(), k_y.flatten()], axis=-1)\n",
    "k_space = hv.Points(\n",
    "    points,\n",
    "    label='k-space',\n",
    ").opts(\n",
    "    width=600,\n",
    "    height=600,\n",
    "    xlabel='k_y',\n",
    "    ylabel='k_x',\n",
    "    title='Spatial Frequency',\n",
    ")\n",
    "k_space"
   ]
  },
  {
   "cell_type": "code",
   "execution_count": null,
   "metadata": {},
   "outputs": [],
   "source": [
    "# find overall bandwidth\n",
    "k_x_max = np.max(k_x.flatten())\n",
    "k_x_min = np.min(k_x.flatten())\n",
    "\n",
    "k_y_max = np.max(k_y.flatten())\n",
    "k_y_min = np.min(k_y.flatten())\n",
    "\n",
    "k_x_bw = k_x_max - k_x_min\n",
    "k_y_bw = k_y_max - k_y_min\n",
    "\n",
    "print(f'{k_x_max=}, {k_x_min=}, {k_x_bw=}')\n",
    "print(f'{k_y_max=}, {k_y_min=}, {k_y_bw=}')"
   ]
  },
  {
   "cell_type": "code",
   "execution_count": null,
   "metadata": {},
   "outputs": [],
   "source": [
    "# find interpolation grid bandwidth\n",
    "# k_x_lower_bound = np.max(k_y[0, :])\n",
    "# k_x_upper_bound = np.min(k_y[-1, :])\n",
    "\n",
    "# k_y_lower_bound = np.min(k_x[0, :])\n",
    "# k_y_upper_bound = np.max(k_x[0, :])\n",
    "\n",
    "# print(f'{k_x_lower_bound=}, {k_x_upper_bound=}')\n",
    "# print(f'{k_y_lower_bound=}, {k_y_upper_bound=}')\n",
    "\n",
    "k_x_lower_bound=np.float64(206.07431828510653)\n",
    "k_x_upper_bound=np.float64(215.8199387243633)\n",
    "k_y_lower_bound=np.float64(-0.6542961455780684)\n",
    "k_y_upper_bound=np.float64(0.6568961366396086)\n"
   ]
  },
  {
   "cell_type": "code",
   "execution_count": null,
   "metadata": {},
   "outputs": [],
   "source": [
    "inscribed_area = hv.Rectangles(\n",
    "    (k_y_lower_bound, k_x_lower_bound, k_y_upper_bound, k_x_upper_bound),\n",
    "    label='interpolation grid',\n",
    ").opts(\n",
    "    fill_color='none',\n",
    ")\n",
    "(k_space * inscribed_area).opts(show_legend=True)"
   ]
  },
  {
   "cell_type": "code",
   "execution_count": null,
   "metadata": {},
   "outputs": [],
   "source": [
    "k_x_interp = np.linspace(k_x_lower_bound, k_x_upper_bound, num_samples)\n",
    "k_x_interp.shape"
   ]
  },
  {
   "cell_type": "code",
   "execution_count": null,
   "metadata": {},
   "outputs": [],
   "source": [
    "k_y_interp = np.linspace(k_y_lower_bound, k_y_upper_bound, num_pulses)\n",
    "k_y_interp.shape"
   ]
  },
  {
   "cell_type": "code",
   "execution_count": null,
   "metadata": {},
   "outputs": [],
   "source": [
    "phase_history = reader[:, :]"
   ]
  },
  {
   "cell_type": "code",
   "execution_count": null,
   "metadata": {},
   "outputs": [],
   "source": [
    "print(phase_history.shape)\n",
    "print(num_pulses, num_samples)"
   ]
  },
  {
   "cell_type": "code",
   "execution_count": null,
   "metadata": {},
   "outputs": [],
   "source": [
    "# range_interpolated = np.zeros((num_pulses, num_samples), dtype=np.complex64)\n",
    "for i_pulse in range(num_pulses):\n",
    "    _wavelen = speed_of_light / freq_vec \n",
    "    _k_x = 2 * np.pi / _wavelen * np.sin(polar_angle[i_pulse])\n",
    "    # print(f'Interpolating {_k_x.min()} to {k_x_interp.min()}')\n",
    "    phase_history[i_pulse, :] = np.interp(k_x_interp, _k_x, phase_history[i_pulse, :])"
   ]
  },
  {
   "cell_type": "code",
   "execution_count": null,
   "metadata": {},
   "outputs": [],
   "source": [
    "hd.rasterize(\n",
    "    hv.Image(np.log10(np.abs(phase_history)))\n",
    ").opts(width=600, height=600)"
   ]
  },
  {
   "cell_type": "code",
   "execution_count": null,
   "metadata": {},
   "outputs": [],
   "source": [
    "# az_interp = np.zeros((num_pulses, num_samples), dtype=np.complex64)\n",
    "for i_sample in range(num_samples):\n",
    "    _wavelen = speed_of_light / freq_vec\n",
    "    _k_y = 2 * np.pi / _wavelen[i_sample] * np.cos(polar_angle)\n",
    "    # print(f'Interpolating {_k_y.min()} to {k_y_interp.min()}')\n",
    "    phase_history[:, i_sample] = np.interp(k_y_interp, _k_y, phase_history[:, i_sample])"
   ]
  },
  {
   "cell_type": "code",
   "execution_count": null,
   "metadata": {},
   "outputs": [],
   "source": [
    "hd.rasterize(\n",
    "    hv.Image(np.log10(np.abs(phase_history)))\n",
    ").opts(width=600, height=600)"
   ]
  },
  {
   "cell_type": "code",
   "execution_count": null,
   "metadata": {},
   "outputs": [],
   "source": [
    "# del range_interpolated\n",
    "# del phase_history"
   ]
  },
  {
   "cell_type": "code",
   "execution_count": null,
   "metadata": {},
   "outputs": [],
   "source": [
    "img = np.fft.fftshift(np.fft.fft2(phase_history), axes=(0, 1))\n"
   ]
  },
  {
   "cell_type": "code",
   "execution_count": null,
   "metadata": {},
   "outputs": [],
   "source": [
    "hd.rasterize(\n",
    "    hv.Image(np.log10(np.abs(phase_history)))\n",
    ").opts(width=600, height=600)"
   ]
  },
  {
   "cell_type": "code",
   "execution_count": null,
   "metadata": {},
   "outputs": [],
   "source": [
    "hd.rasterize(\n",
    "    hv.Image(np.log10(np.abs(range_interpolated)))\n",
    ").opts(width=600, height=600)"
   ]
  },
  {
   "cell_type": "code",
   "execution_count": null,
   "metadata": {},
   "outputs": [],
   "source": [
    "# phase_history = reader[::50, ::50]\n",
    "\n",
    "# data = {\n",
    "#     'x': k_x.flatten(),\n",
    "#     'y': k_y.flatten(),\n",
    "#     'c': np.real(phase_history).flatten(),\n",
    "# }\n",
    "\n",
    "# hv.Scatter(\n",
    "#     data,\n",
    "#     vdims=[ 'y', 'c']\n",
    "# ).opts(\n",
    "#     width=600,\n",
    "#     height=600,\n",
    "#     # xlabel='k_y',\n",
    "#     # ylabel='k_x',\n",
    "#     title='Spatial Frequency',\n",
    "#     color='c',\n",
    "#     colorbar=True,\n",
    "#     size=0.5,\n",
    "# )\n",
    "\n"
   ]
  },
  {
   "cell_type": "code",
   "execution_count": null,
   "metadata": {},
   "outputs": [],
   "source": []
  },
  {
   "cell_type": "code",
   "execution_count": null,
   "metadata": {},
   "outputs": [],
   "source": []
  },
  {
   "cell_type": "code",
   "execution_count": null,
   "metadata": {},
   "outputs": [],
   "source": []
  }
 ],
 "metadata": {
  "kernelspec": {
   "display_name": "Python 3 (ipykernel)",
   "language": "python",
   "name": "python3"
  },
  "language_info": {
   "codemirror_mode": {
    "name": "ipython",
    "version": 3
   },
   "file_extension": ".py",
   "mimetype": "text/x-python",
   "name": "python",
   "nbconvert_exporter": "python",
   "pygments_lexer": "ipython3",
   "version": "3.11.2"
  }
 },
 "nbformat": 4,
 "nbformat_minor": 4
}
