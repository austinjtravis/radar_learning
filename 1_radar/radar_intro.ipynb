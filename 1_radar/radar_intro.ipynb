{
 "cells": [
  {
   "cell_type": "markdown",
   "metadata": {},
   "source": [
    "# Radar\n",
    "\n",
    "## Introduction\n",
    "- Discuss what Radar is\n",
    "- Introduce waves/wavelengths/reflection principles\n",
    "- Doppler effect?"
   ]
  },
  {
   "cell_type": "markdown",
   "metadata": {},
   "source": [
    "## Radar Sytem components\n",
    "\n",
    "### Discussion on dB\n",
    "- Overview of decibals and why we use them\n",
    "### Signal Generators\n",
    "- Brief overview on waveform generation/types of waveforms\n",
    "### Filters\n",
    "- Brief overview on filters\n",
    "### Mixers\n",
    "- Brief overview on mixers\n",
    "### Amplifiers\n",
    "- Brief overview on amplifiers\n",
    "### Antennas\n",
    "- Brief overview on antennas\n",
    "### Putting it all together\n",
    "- Discuss radar system topologies (superheterodyne receivers)\n",
    "- Frequency planning"
   ]
  },
  {
   "cell_type": "markdown",
   "metadata": {},
   "source": [
    "## Radar Range equation\n",
    "- Derive the equation\n",
    "- Derive signal to noise ratio from equation\n",
    "- Derive equations for to show constraints (max range, ...)\n",
    "- Discuss losses in system (noise figure, noise temperature, ...)"
   ]
  },
  {
   "cell_type": "markdown",
   "metadata": {},
   "source": [
    "## Topic: System Design\n",
    "- Design a radar system given constraints"
   ]
  },
  {
   "cell_type": "markdown",
   "metadata": {},
   "source": [
    "## Topic: RCS Calibration\n",
    "- Show how we calibrate for RCS measurements"
   ]
  },
  {
   "cell_type": "markdown",
   "metadata": {},
   "source": []
  }
 ],
 "metadata": {
  "language_info": {
   "name": "python"
  }
 },
 "nbformat": 4,
 "nbformat_minor": 2
}
