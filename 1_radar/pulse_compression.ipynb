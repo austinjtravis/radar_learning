{
 "cells": [
  {
   "cell_type": "code",
   "execution_count": 31,
   "metadata": {},
   "outputs": [
    {
     "data": {
      "application/vnd.jupyter.widget-view+json": {
       "model_id": "04657422877b4c16b5fce8d6c11400eb",
       "version_major": 2,
       "version_minor": 0
      },
      "text/plain": [
       "interactive(children=(IntSlider(value=50, description='Offset', max=950, min=50), Output()), _dom_classes=('wi…"
      ]
     },
     "metadata": {},
     "output_type": "display_data"
    },
    {
     "data": {
      "text/plain": [
       "<function __main__.convolution_demo(slider=0)>"
      ]
     },
     "execution_count": 31,
     "metadata": {},
     "output_type": "execute_result"
    }
   ],
   "source": [
    "import numpy as np\n",
    "import matplotlib.pyplot as plt\n",
    "from ipywidgets import interact, IntSlider\n",
    "\n",
    "\n",
    "def lfm_chirp(t, t0, f0, k, T):\n",
    "    \"\"\"\n",
    "    Generate an LFM chirp signal.\n",
    "\n",
    "    Parameters:\n",
    "    t : array-like\n",
    "        Time samples.\n",
    "    t0 : float\n",
    "        Start time of the chirp.\n",
    "    f0 : float\n",
    "        Start frequency of the chirp (Hz).\n",
    "    k : float\n",
    "        Chirp rate (Hz/s).\n",
    "    T : float\n",
    "        Pulse duration (seconds).\n",
    "\n",
    "    Returns:\n",
    "    chirp_signal : array-like\n",
    "        LFM chirp signal.\n",
    "    \"\"\"\n",
    "    # Initialize the chirp signal with zeros\n",
    "    t0 -= T/2\n",
    "    chirp_signal = np.zeros_like(t, dtype=float)\n",
    "    \n",
    "    # Determine the times within the chirp duration\n",
    "    mask = (t >= t0) & (t <= t0 + T)\n",
    "    t_within = t[mask] - t0  # Time relative to the chirp start\n",
    "    \n",
    "    # Compute the instantaneous phase for the chirp\n",
    "    phase = 2 * np.pi * (f0 * t_within + 0.5 * k * t_within**2)\n",
    "    \n",
    "    # Set the chirp signal for the valid times\n",
    "    chirp_signal[mask] = np.cos(phase)\n",
    "    \n",
    "    return chirp_signal\n",
    "\n",
    "\n",
    "def generate_overlap():\n",
    "    x = np.linspace(-10, 10, 1000)\n",
    "    waveform1 = lfm_chirp(x, 0, 1, 2, 2)\n",
    "    # waveform1 = np.exp(-x**2 / 4)  # Gaussian function\n",
    "    # waveform2 = np.heaviside(x + 2, 1) - np.heaviside(x - 2, 1)  # Rectangular pulse\n",
    "    waveform2 = 0.5 * lfm_chirp(x, 0, 1, 2, 2)\n",
    "    \n",
    "    # Shift the second waveform\n",
    "    offset = np.linspace(-500, 500, 1000)\n",
    "    convolution = np.zeros(1000)\n",
    "    for i, shift in enumerate(offset):\n",
    "        waveform2_shifted = np.roll(waveform2, int(shift))\n",
    "        overlap = sum(waveform1 * waveform2_shifted) / len(x)\n",
    "        convolution[i] = overlap\n",
    "    \n",
    "    # Compute the overlap integral (convolution at this step)\n",
    "    return convolution\n",
    "\n",
    "convolution = generate_overlap()\n",
    "\n",
    "def convolution_demo(slider=0):\n",
    "    \"\"\"\n",
    "    Interactive demonstration of convolution.\n",
    "    offset: Amount to slide the second waveform relative to the first.\n",
    "    \"\"\"\n",
    "    offset = slider - 500\n",
    "    # Define the waveforms\n",
    "    x = np.linspace(-10, 10, 1000)\n",
    "    waveform1 = lfm_chirp(x, 0, 1, 2, 2)\n",
    "    # waveform1 = np.exp(-x**2 / 4)  # Gaussian function\n",
    "    # waveform2 = np.heaviside(x + 2, 1) - np.heaviside(x - 2, 1)  # Rectangular pulse\n",
    "    waveform2 = 0.5 * lfm_chirp(x, 0, 1, 2, 2)\n",
    "    \n",
    "    # Shift the second waveform\n",
    "    waveform2_shifted = np.roll(waveform2, offset)\n",
    "    \n",
    "    # Create the plot\n",
    "    plt.figure(figsize=(10, 8))\n",
    "    \n",
    "    # Subplot 1: Waveforms\n",
    "    plt.subplot(2, 1, 1)\n",
    "    plt.plot(x, waveform1, label=\"Template\")\n",
    "    plt.plot(x, waveform2_shifted, label=\"Return Signal\")\n",
    "    plt.title(\"Return Signal and Template\")\n",
    "    plt.xlabel(\"x\")\n",
    "    plt.ylabel(\"Amplitude\")\n",
    "    plt.legend()\n",
    "    plt.grid()\n",
    "    \n",
    "    # Subplot 2: Convolution value\n",
    "    plt.subplot(2, 1, 2)\n",
    "    plt.plot(x[0:slider], convolution[0:slider])\n",
    "    plt.title(\"Combined Output\")\n",
    "    plt.ylabel(\"Amplitude\")\n",
    "    plt.xlim((-10, 10))\n",
    "    plt.ylim((-0.05, 0.05))\n",
    "    plt.grid()\n",
    "    \n",
    "    plt.tight_layout()\n",
    "    plt.show()\n",
    "\n",
    "# Interactive slider for waveform offset\n",
    "interact(\n",
    "    convolution_demo,\n",
    "    slider=IntSlider(value=0, min=50, max=950, step=1, description=\"Offset\")\n",
    ")\n"
   ]
  }
 ],
 "metadata": {
  "kernelspec": {
   "display_name": "Python 3",
   "language": "python",
   "name": "python3"
  },
  "language_info": {
   "codemirror_mode": {
    "name": "ipython",
    "version": 3
   },
   "file_extension": ".py",
   "mimetype": "text/x-python",
   "name": "python",
   "nbconvert_exporter": "python",
   "pygments_lexer": "ipython3",
   "version": "3.11.5"
  }
 },
 "nbformat": 4,
 "nbformat_minor": 2
}
