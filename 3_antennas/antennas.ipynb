{
 "cells": [
  {
   "cell_type": "markdown",
   "metadata": {},
   "source": [
    "# Introduction to electromagnetics and antennas"
   ]
  },
  {
   "cell_type": "markdown",
   "metadata": {},
   "source": [
    "## 1. Introduction to electromagnetics\n",
    "- plane waves\n",
    "- maxwells equations\n",
    "- electric field/magnetic field"
   ]
  },
  {
   "cell_type": "markdown",
   "metadata": {},
   "source": [
    "# 2. Antennas\n",
    "- Overview\n",
    "    - Types of antennas\n",
    "- Radiation conditions (near field vs far field)\n",
    "- radiaion patterns\n",
    "    - fourier transform of the aperture\n",
    "- beamwidth\n",
    "- directivity\n",
    "- gain\n",
    "- antenna efficieny\n",
    "- polarization"
   ]
  },
  {
   "cell_type": "markdown",
   "metadata": {},
   "source": [
    "# 3. Antenna arrays/beamforming\n",
    "- Uniform linear array\n",
    "- Phased array  \n",
    "Want to talk about beam steering and grating lobes and what not"
   ]
  },
  {
   "cell_type": "markdown",
   "metadata": {},
   "source": [
    "# 4. Angle of arrival estimation\n",
    "- fourier transform over antennas\n",
    "- spectral estimation techniques (MUSIC/barlett/capon (MVDR)/ESPIRT)"
   ]
  },
  {
   "cell_type": "code",
   "execution_count": null,
   "metadata": {
    "vscode": {
     "languageId": "plaintext"
    }
   },
   "outputs": [],
   "source": []
  }
 ],
 "metadata": {
  "language_info": {
   "name": "python"
  }
 },
 "nbformat": 4,
 "nbformat_minor": 2
}
